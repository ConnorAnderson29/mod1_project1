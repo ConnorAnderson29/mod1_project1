{
 "cells": [
  {
   "cell_type": "markdown",
   "metadata": {},
   "source": [
    "# Module One Partner Project \n",
    "### Created by: Andy Luc and Connor Anderson "
   ]
  },
  {
   "cell_type": "code",
   "execution_count": 107,
   "metadata": {},
   "outputs": [],
   "source": [
    "import pandas as pd\n",
    "import numpy as np\n",
    "import matplotlib.pyplot as plt\n",
    "import seaborn as sns\n",
    "from matplotlib import style\n",
    "style.use('ggplot')"
   ]
  },
  {
   "cell_type": "code",
   "execution_count": 108,
   "metadata": {},
   "outputs": [
    {
     "name": "stdout",
     "output_type": "stream",
     "text": [
      "<class 'pandas.core.frame.DataFrame'>\n",
      "RangeIndex: 21597 entries, 0 to 21596\n",
      "Data columns (total 21 columns):\n",
      "id               21597 non-null int64\n",
      "date             21597 non-null object\n",
      "price            21597 non-null float64\n",
      "bedrooms         21597 non-null int64\n",
      "bathrooms        21597 non-null float64\n",
      "sqft_living      21597 non-null int64\n",
      "sqft_lot         21597 non-null int64\n",
      "floors           21597 non-null float64\n",
      "waterfront       19221 non-null float64\n",
      "view             21534 non-null float64\n",
      "condition        21597 non-null int64\n",
      "grade            21597 non-null int64\n",
      "sqft_above       21597 non-null int64\n",
      "sqft_basement    21597 non-null object\n",
      "yr_built         21597 non-null int64\n",
      "yr_renovated     17755 non-null float64\n",
      "zipcode          21597 non-null int64\n",
      "lat              21597 non-null float64\n",
      "long             21597 non-null float64\n",
      "sqft_living15    21597 non-null int64\n",
      "sqft_lot15       21597 non-null int64\n",
      "dtypes: float64(8), int64(11), object(2)\n",
      "memory usage: 3.5+ MB\n"
     ]
    }
   ],
   "source": [
    "df = pd.read_csv('kc_house_data.csv')\n",
    "df.info()\n"
   ]
  },
  {
   "cell_type": "code",
   "execution_count": 109,
   "metadata": {},
   "outputs": [
    {
     "data": {
      "text/html": [
       "<div>\n",
       "<style scoped>\n",
       "    .dataframe tbody tr th:only-of-type {\n",
       "        vertical-align: middle;\n",
       "    }\n",
       "\n",
       "    .dataframe tbody tr th {\n",
       "        vertical-align: top;\n",
       "    }\n",
       "\n",
       "    .dataframe thead th {\n",
       "        text-align: right;\n",
       "    }\n",
       "</style>\n",
       "<table border=\"1\" class=\"dataframe\">\n",
       "  <thead>\n",
       "    <tr style=\"text-align: right;\">\n",
       "      <th></th>\n",
       "      <th>0</th>\n",
       "      <th>1</th>\n",
       "      <th>2</th>\n",
       "      <th>3</th>\n",
       "      <th>4</th>\n",
       "    </tr>\n",
       "  </thead>\n",
       "  <tbody>\n",
       "    <tr>\n",
       "      <th>id</th>\n",
       "      <td>7129300520</td>\n",
       "      <td>6414100192</td>\n",
       "      <td>5631500400</td>\n",
       "      <td>2487200875</td>\n",
       "      <td>1954400510</td>\n",
       "    </tr>\n",
       "    <tr>\n",
       "      <th>date</th>\n",
       "      <td>10/13/2014</td>\n",
       "      <td>12/9/2014</td>\n",
       "      <td>2/25/2015</td>\n",
       "      <td>12/9/2014</td>\n",
       "      <td>2/18/2015</td>\n",
       "    </tr>\n",
       "    <tr>\n",
       "      <th>price</th>\n",
       "      <td>221900</td>\n",
       "      <td>538000</td>\n",
       "      <td>180000</td>\n",
       "      <td>604000</td>\n",
       "      <td>510000</td>\n",
       "    </tr>\n",
       "    <tr>\n",
       "      <th>bedrooms</th>\n",
       "      <td>3</td>\n",
       "      <td>3</td>\n",
       "      <td>2</td>\n",
       "      <td>4</td>\n",
       "      <td>3</td>\n",
       "    </tr>\n",
       "    <tr>\n",
       "      <th>bathrooms</th>\n",
       "      <td>1</td>\n",
       "      <td>2.25</td>\n",
       "      <td>1</td>\n",
       "      <td>3</td>\n",
       "      <td>2</td>\n",
       "    </tr>\n",
       "    <tr>\n",
       "      <th>sqft_living</th>\n",
       "      <td>1180</td>\n",
       "      <td>2570</td>\n",
       "      <td>770</td>\n",
       "      <td>1960</td>\n",
       "      <td>1680</td>\n",
       "    </tr>\n",
       "    <tr>\n",
       "      <th>sqft_lot</th>\n",
       "      <td>5650</td>\n",
       "      <td>7242</td>\n",
       "      <td>10000</td>\n",
       "      <td>5000</td>\n",
       "      <td>8080</td>\n",
       "    </tr>\n",
       "    <tr>\n",
       "      <th>floors</th>\n",
       "      <td>1</td>\n",
       "      <td>2</td>\n",
       "      <td>1</td>\n",
       "      <td>1</td>\n",
       "      <td>1</td>\n",
       "    </tr>\n",
       "    <tr>\n",
       "      <th>waterfront</th>\n",
       "      <td>NaN</td>\n",
       "      <td>0</td>\n",
       "      <td>0</td>\n",
       "      <td>0</td>\n",
       "      <td>0</td>\n",
       "    </tr>\n",
       "    <tr>\n",
       "      <th>view</th>\n",
       "      <td>0</td>\n",
       "      <td>0</td>\n",
       "      <td>0</td>\n",
       "      <td>0</td>\n",
       "      <td>0</td>\n",
       "    </tr>\n",
       "    <tr>\n",
       "      <th>condition</th>\n",
       "      <td>3</td>\n",
       "      <td>3</td>\n",
       "      <td>3</td>\n",
       "      <td>5</td>\n",
       "      <td>3</td>\n",
       "    </tr>\n",
       "    <tr>\n",
       "      <th>grade</th>\n",
       "      <td>7</td>\n",
       "      <td>7</td>\n",
       "      <td>6</td>\n",
       "      <td>7</td>\n",
       "      <td>8</td>\n",
       "    </tr>\n",
       "    <tr>\n",
       "      <th>sqft_above</th>\n",
       "      <td>1180</td>\n",
       "      <td>2170</td>\n",
       "      <td>770</td>\n",
       "      <td>1050</td>\n",
       "      <td>1680</td>\n",
       "    </tr>\n",
       "    <tr>\n",
       "      <th>sqft_basement</th>\n",
       "      <td>0.0</td>\n",
       "      <td>400.0</td>\n",
       "      <td>0.0</td>\n",
       "      <td>910.0</td>\n",
       "      <td>0.0</td>\n",
       "    </tr>\n",
       "    <tr>\n",
       "      <th>yr_built</th>\n",
       "      <td>1955</td>\n",
       "      <td>1951</td>\n",
       "      <td>1933</td>\n",
       "      <td>1965</td>\n",
       "      <td>1987</td>\n",
       "    </tr>\n",
       "    <tr>\n",
       "      <th>yr_renovated</th>\n",
       "      <td>0</td>\n",
       "      <td>1991</td>\n",
       "      <td>NaN</td>\n",
       "      <td>0</td>\n",
       "      <td>0</td>\n",
       "    </tr>\n",
       "    <tr>\n",
       "      <th>zipcode</th>\n",
       "      <td>98178</td>\n",
       "      <td>98125</td>\n",
       "      <td>98028</td>\n",
       "      <td>98136</td>\n",
       "      <td>98074</td>\n",
       "    </tr>\n",
       "    <tr>\n",
       "      <th>lat</th>\n",
       "      <td>47.5112</td>\n",
       "      <td>47.721</td>\n",
       "      <td>47.7379</td>\n",
       "      <td>47.5208</td>\n",
       "      <td>47.6168</td>\n",
       "    </tr>\n",
       "    <tr>\n",
       "      <th>long</th>\n",
       "      <td>-122.257</td>\n",
       "      <td>-122.319</td>\n",
       "      <td>-122.233</td>\n",
       "      <td>-122.393</td>\n",
       "      <td>-122.045</td>\n",
       "    </tr>\n",
       "    <tr>\n",
       "      <th>sqft_living15</th>\n",
       "      <td>1340</td>\n",
       "      <td>1690</td>\n",
       "      <td>2720</td>\n",
       "      <td>1360</td>\n",
       "      <td>1800</td>\n",
       "    </tr>\n",
       "    <tr>\n",
       "      <th>sqft_lot15</th>\n",
       "      <td>5650</td>\n",
       "      <td>7639</td>\n",
       "      <td>8062</td>\n",
       "      <td>5000</td>\n",
       "      <td>7503</td>\n",
       "    </tr>\n",
       "  </tbody>\n",
       "</table>\n",
       "</div>"
      ],
      "text/plain": [
       "                        0           1           2           3           4\n",
       "id             7129300520  6414100192  5631500400  2487200875  1954400510\n",
       "date           10/13/2014   12/9/2014   2/25/2015   12/9/2014   2/18/2015\n",
       "price              221900      538000      180000      604000      510000\n",
       "bedrooms                3           3           2           4           3\n",
       "bathrooms               1        2.25           1           3           2\n",
       "sqft_living          1180        2570         770        1960        1680\n",
       "sqft_lot             5650        7242       10000        5000        8080\n",
       "floors                  1           2           1           1           1\n",
       "waterfront            NaN           0           0           0           0\n",
       "view                    0           0           0           0           0\n",
       "condition               3           3           3           5           3\n",
       "grade                   7           7           6           7           8\n",
       "sqft_above           1180        2170         770        1050        1680\n",
       "sqft_basement         0.0       400.0         0.0       910.0         0.0\n",
       "yr_built             1955        1951        1933        1965        1987\n",
       "yr_renovated            0        1991         NaN           0           0\n",
       "zipcode             98178       98125       98028       98136       98074\n",
       "lat               47.5112      47.721     47.7379     47.5208     47.6168\n",
       "long             -122.257    -122.319    -122.233    -122.393    -122.045\n",
       "sqft_living15        1340        1690        2720        1360        1800\n",
       "sqft_lot15           5650        7639        8062        5000        7503"
      ]
     },
     "execution_count": 109,
     "metadata": {},
     "output_type": "execute_result"
    }
   ],
   "source": [
    "df.head().T"
   ]
  },
  {
   "cell_type": "markdown",
   "metadata": {},
   "source": [
    "# Data Cleaning"
   ]
  },
  {
   "cell_type": "code",
   "execution_count": 110,
   "metadata": {},
   "outputs": [
    {
     "data": {
      "text/html": [
       "<div>\n",
       "<style scoped>\n",
       "    .dataframe tbody tr th:only-of-type {\n",
       "        vertical-align: middle;\n",
       "    }\n",
       "\n",
       "    .dataframe tbody tr th {\n",
       "        vertical-align: top;\n",
       "    }\n",
       "\n",
       "    .dataframe thead th {\n",
       "        text-align: right;\n",
       "    }\n",
       "</style>\n",
       "<table border=\"1\" class=\"dataframe\">\n",
       "  <thead>\n",
       "    <tr style=\"text-align: right;\">\n",
       "      <th></th>\n",
       "      <th>id</th>\n",
       "      <th>date</th>\n",
       "      <th>price</th>\n",
       "      <th>bedrooms</th>\n",
       "      <th>bathrooms</th>\n",
       "      <th>sqft_living</th>\n",
       "      <th>sqft_lot</th>\n",
       "      <th>floors</th>\n",
       "      <th>waterfront</th>\n",
       "      <th>view</th>\n",
       "      <th>...</th>\n",
       "      <th>grade</th>\n",
       "      <th>sqft_above</th>\n",
       "      <th>sqft_basement</th>\n",
       "      <th>yr_built</th>\n",
       "      <th>yr_renovated</th>\n",
       "      <th>zipcode</th>\n",
       "      <th>lat</th>\n",
       "      <th>long</th>\n",
       "      <th>sqft_living15</th>\n",
       "      <th>sqft_lot15</th>\n",
       "    </tr>\n",
       "  </thead>\n",
       "  <tbody>\n",
       "    <tr>\n",
       "      <th>0</th>\n",
       "      <td>7129300520</td>\n",
       "      <td>10/13/2014</td>\n",
       "      <td>221900.0</td>\n",
       "      <td>3</td>\n",
       "      <td>1.00</td>\n",
       "      <td>1180</td>\n",
       "      <td>5650</td>\n",
       "      <td>1.0</td>\n",
       "      <td>NaN</td>\n",
       "      <td>0.0</td>\n",
       "      <td>...</td>\n",
       "      <td>7</td>\n",
       "      <td>1180</td>\n",
       "      <td>0.0</td>\n",
       "      <td>1955</td>\n",
       "      <td>0.0</td>\n",
       "      <td>98178</td>\n",
       "      <td>47.5112</td>\n",
       "      <td>-122.257</td>\n",
       "      <td>1340</td>\n",
       "      <td>5650</td>\n",
       "    </tr>\n",
       "    <tr>\n",
       "      <th>1</th>\n",
       "      <td>6414100192</td>\n",
       "      <td>12/9/2014</td>\n",
       "      <td>538000.0</td>\n",
       "      <td>3</td>\n",
       "      <td>2.25</td>\n",
       "      <td>2570</td>\n",
       "      <td>7242</td>\n",
       "      <td>2.0</td>\n",
       "      <td>0.0</td>\n",
       "      <td>0.0</td>\n",
       "      <td>...</td>\n",
       "      <td>7</td>\n",
       "      <td>2170</td>\n",
       "      <td>400.0</td>\n",
       "      <td>1951</td>\n",
       "      <td>1991.0</td>\n",
       "      <td>98125</td>\n",
       "      <td>47.7210</td>\n",
       "      <td>-122.319</td>\n",
       "      <td>1690</td>\n",
       "      <td>7639</td>\n",
       "    </tr>\n",
       "    <tr>\n",
       "      <th>2</th>\n",
       "      <td>5631500400</td>\n",
       "      <td>2/25/2015</td>\n",
       "      <td>180000.0</td>\n",
       "      <td>2</td>\n",
       "      <td>1.00</td>\n",
       "      <td>770</td>\n",
       "      <td>10000</td>\n",
       "      <td>1.0</td>\n",
       "      <td>0.0</td>\n",
       "      <td>0.0</td>\n",
       "      <td>...</td>\n",
       "      <td>6</td>\n",
       "      <td>770</td>\n",
       "      <td>0.0</td>\n",
       "      <td>1933</td>\n",
       "      <td>NaN</td>\n",
       "      <td>98028</td>\n",
       "      <td>47.7379</td>\n",
       "      <td>-122.233</td>\n",
       "      <td>2720</td>\n",
       "      <td>8062</td>\n",
       "    </tr>\n",
       "    <tr>\n",
       "      <th>3</th>\n",
       "      <td>2487200875</td>\n",
       "      <td>12/9/2014</td>\n",
       "      <td>604000.0</td>\n",
       "      <td>4</td>\n",
       "      <td>3.00</td>\n",
       "      <td>1960</td>\n",
       "      <td>5000</td>\n",
       "      <td>1.0</td>\n",
       "      <td>0.0</td>\n",
       "      <td>0.0</td>\n",
       "      <td>...</td>\n",
       "      <td>7</td>\n",
       "      <td>1050</td>\n",
       "      <td>910.0</td>\n",
       "      <td>1965</td>\n",
       "      <td>0.0</td>\n",
       "      <td>98136</td>\n",
       "      <td>47.5208</td>\n",
       "      <td>-122.393</td>\n",
       "      <td>1360</td>\n",
       "      <td>5000</td>\n",
       "    </tr>\n",
       "    <tr>\n",
       "      <th>4</th>\n",
       "      <td>1954400510</td>\n",
       "      <td>2/18/2015</td>\n",
       "      <td>510000.0</td>\n",
       "      <td>3</td>\n",
       "      <td>2.00</td>\n",
       "      <td>1680</td>\n",
       "      <td>8080</td>\n",
       "      <td>1.0</td>\n",
       "      <td>0.0</td>\n",
       "      <td>0.0</td>\n",
       "      <td>...</td>\n",
       "      <td>8</td>\n",
       "      <td>1680</td>\n",
       "      <td>0.0</td>\n",
       "      <td>1987</td>\n",
       "      <td>0.0</td>\n",
       "      <td>98074</td>\n",
       "      <td>47.6168</td>\n",
       "      <td>-122.045</td>\n",
       "      <td>1800</td>\n",
       "      <td>7503</td>\n",
       "    </tr>\n",
       "  </tbody>\n",
       "</table>\n",
       "<p>5 rows × 21 columns</p>\n",
       "</div>"
      ],
      "text/plain": [
       "           id        date     price  bedrooms  bathrooms  sqft_living  \\\n",
       "0  7129300520  10/13/2014  221900.0         3       1.00         1180   \n",
       "1  6414100192   12/9/2014  538000.0         3       2.25         2570   \n",
       "2  5631500400   2/25/2015  180000.0         2       1.00          770   \n",
       "3  2487200875   12/9/2014  604000.0         4       3.00         1960   \n",
       "4  1954400510   2/18/2015  510000.0         3       2.00         1680   \n",
       "\n",
       "   sqft_lot  floors  waterfront  view     ...      grade  sqft_above  \\\n",
       "0      5650     1.0         NaN   0.0     ...          7        1180   \n",
       "1      7242     2.0         0.0   0.0     ...          7        2170   \n",
       "2     10000     1.0         0.0   0.0     ...          6         770   \n",
       "3      5000     1.0         0.0   0.0     ...          7        1050   \n",
       "4      8080     1.0         0.0   0.0     ...          8        1680   \n",
       "\n",
       "   sqft_basement yr_built  yr_renovated  zipcode      lat     long  \\\n",
       "0            0.0     1955           0.0    98178  47.5112 -122.257   \n",
       "1          400.0     1951        1991.0    98125  47.7210 -122.319   \n",
       "2            0.0     1933           NaN    98028  47.7379 -122.233   \n",
       "3          910.0     1965           0.0    98136  47.5208 -122.393   \n",
       "4            0.0     1987           0.0    98074  47.6168 -122.045   \n",
       "\n",
       "   sqft_living15  sqft_lot15  \n",
       "0           1340        5650  \n",
       "1           1690        7639  \n",
       "2           2720        8062  \n",
       "3           1360        5000  \n",
       "4           1800        7503  \n",
       "\n",
       "[5 rows x 21 columns]"
      ]
     },
     "execution_count": 110,
     "metadata": {},
     "output_type": "execute_result"
    }
   ],
   "source": [
    "'''Dropping ? from SqFt Basement'''\n",
    "\n",
    "df['sqft_basement'] = df['sqft_basement'].replace(\"?\",0)\n",
    "df.head()"
   ]
  },
  {
   "cell_type": "code",
   "execution_count": 111,
   "metadata": {},
   "outputs": [
    {
     "data": {
      "text/html": [
       "<div>\n",
       "<style scoped>\n",
       "    .dataframe tbody tr th:only-of-type {\n",
       "        vertical-align: middle;\n",
       "    }\n",
       "\n",
       "    .dataframe tbody tr th {\n",
       "        vertical-align: top;\n",
       "    }\n",
       "\n",
       "    .dataframe thead th {\n",
       "        text-align: right;\n",
       "    }\n",
       "</style>\n",
       "<table border=\"1\" class=\"dataframe\">\n",
       "  <thead>\n",
       "    <tr style=\"text-align: right;\">\n",
       "      <th></th>\n",
       "      <th>id</th>\n",
       "      <th>date</th>\n",
       "      <th>price</th>\n",
       "      <th>bedrooms</th>\n",
       "      <th>bathrooms</th>\n",
       "      <th>sqft_living</th>\n",
       "      <th>sqft_lot</th>\n",
       "      <th>floors</th>\n",
       "      <th>waterfront</th>\n",
       "      <th>view</th>\n",
       "      <th>condition</th>\n",
       "      <th>grade</th>\n",
       "      <th>sqft_above</th>\n",
       "      <th>sqft_basement</th>\n",
       "      <th>yr_built</th>\n",
       "      <th>zipcode</th>\n",
       "      <th>sqft_living15</th>\n",
       "      <th>sqft_lot15</th>\n",
       "    </tr>\n",
       "  </thead>\n",
       "  <tbody>\n",
       "    <tr>\n",
       "      <th>1</th>\n",
       "      <td>6414100192</td>\n",
       "      <td>12/9/2014</td>\n",
       "      <td>538000.0</td>\n",
       "      <td>3</td>\n",
       "      <td>2.25</td>\n",
       "      <td>2570</td>\n",
       "      <td>7242</td>\n",
       "      <td>2.0</td>\n",
       "      <td>0.0</td>\n",
       "      <td>0.0</td>\n",
       "      <td>3</td>\n",
       "      <td>7</td>\n",
       "      <td>2170</td>\n",
       "      <td>400.0</td>\n",
       "      <td>1951</td>\n",
       "      <td>98125</td>\n",
       "      <td>1690</td>\n",
       "      <td>7639</td>\n",
       "    </tr>\n",
       "    <tr>\n",
       "      <th>2</th>\n",
       "      <td>5631500400</td>\n",
       "      <td>2/25/2015</td>\n",
       "      <td>180000.0</td>\n",
       "      <td>2</td>\n",
       "      <td>1.00</td>\n",
       "      <td>770</td>\n",
       "      <td>10000</td>\n",
       "      <td>1.0</td>\n",
       "      <td>0.0</td>\n",
       "      <td>0.0</td>\n",
       "      <td>3</td>\n",
       "      <td>6</td>\n",
       "      <td>770</td>\n",
       "      <td>0.0</td>\n",
       "      <td>1933</td>\n",
       "      <td>98028</td>\n",
       "      <td>2720</td>\n",
       "      <td>8062</td>\n",
       "    </tr>\n",
       "    <tr>\n",
       "      <th>3</th>\n",
       "      <td>2487200875</td>\n",
       "      <td>12/9/2014</td>\n",
       "      <td>604000.0</td>\n",
       "      <td>4</td>\n",
       "      <td>3.00</td>\n",
       "      <td>1960</td>\n",
       "      <td>5000</td>\n",
       "      <td>1.0</td>\n",
       "      <td>0.0</td>\n",
       "      <td>0.0</td>\n",
       "      <td>5</td>\n",
       "      <td>7</td>\n",
       "      <td>1050</td>\n",
       "      <td>910.0</td>\n",
       "      <td>1965</td>\n",
       "      <td>98136</td>\n",
       "      <td>1360</td>\n",
       "      <td>5000</td>\n",
       "    </tr>\n",
       "    <tr>\n",
       "      <th>4</th>\n",
       "      <td>1954400510</td>\n",
       "      <td>2/18/2015</td>\n",
       "      <td>510000.0</td>\n",
       "      <td>3</td>\n",
       "      <td>2.00</td>\n",
       "      <td>1680</td>\n",
       "      <td>8080</td>\n",
       "      <td>1.0</td>\n",
       "      <td>0.0</td>\n",
       "      <td>0.0</td>\n",
       "      <td>3</td>\n",
       "      <td>8</td>\n",
       "      <td>1680</td>\n",
       "      <td>0.0</td>\n",
       "      <td>1987</td>\n",
       "      <td>98074</td>\n",
       "      <td>1800</td>\n",
       "      <td>7503</td>\n",
       "    </tr>\n",
       "    <tr>\n",
       "      <th>5</th>\n",
       "      <td>7237550310</td>\n",
       "      <td>5/12/2014</td>\n",
       "      <td>1230000.0</td>\n",
       "      <td>4</td>\n",
       "      <td>4.50</td>\n",
       "      <td>5420</td>\n",
       "      <td>101930</td>\n",
       "      <td>1.0</td>\n",
       "      <td>0.0</td>\n",
       "      <td>0.0</td>\n",
       "      <td>3</td>\n",
       "      <td>11</td>\n",
       "      <td>3890</td>\n",
       "      <td>1530.0</td>\n",
       "      <td>2001</td>\n",
       "      <td>98053</td>\n",
       "      <td>4760</td>\n",
       "      <td>101930</td>\n",
       "    </tr>\n",
       "  </tbody>\n",
       "</table>\n",
       "</div>"
      ],
      "text/plain": [
       "           id       date      price  bedrooms  bathrooms  sqft_living  \\\n",
       "1  6414100192  12/9/2014   538000.0         3       2.25         2570   \n",
       "2  5631500400  2/25/2015   180000.0         2       1.00          770   \n",
       "3  2487200875  12/9/2014   604000.0         4       3.00         1960   \n",
       "4  1954400510  2/18/2015   510000.0         3       2.00         1680   \n",
       "5  7237550310  5/12/2014  1230000.0         4       4.50         5420   \n",
       "\n",
       "   sqft_lot  floors  waterfront  view  condition  grade  sqft_above  \\\n",
       "1      7242     2.0         0.0   0.0          3      7        2170   \n",
       "2     10000     1.0         0.0   0.0          3      6         770   \n",
       "3      5000     1.0         0.0   0.0          5      7        1050   \n",
       "4      8080     1.0         0.0   0.0          3      8        1680   \n",
       "5    101930     1.0         0.0   0.0          3     11        3890   \n",
       "\n",
       "   sqft_basement  yr_built zipcode  sqft_living15  sqft_lot15  \n",
       "1          400.0      1951   98125           1690        7639  \n",
       "2            0.0      1933   98028           2720        8062  \n",
       "3          910.0      1965   98136           1360        5000  \n",
       "4            0.0      1987   98074           1800        7503  \n",
       "5         1530.0      2001   98053           4760      101930  "
      ]
     },
     "execution_count": 111,
     "metadata": {},
     "output_type": "execute_result"
    }
   ],
   "source": [
    "'''Drop all records in DF where values in Waterfront, View are NaN.\n",
    "Also Dropping Yr_Ren, Lat, and Long. We have zipcodes so Lat and Long seemed uneccsesary'''\n",
    "df = df[~np.isnan(df['waterfront'])]\n",
    "df = df[~np.isnan(df['view'])]\n",
    "df = df.drop(['yr_renovated','lat','long'], axis=1)\n",
    "df['sqft_basement'] = df['sqft_basement'].astype(float)\n",
    "df['zipcode'] = df['zipcode'].astype(str)\n",
    "\n",
    "df.head()"
   ]
  },
  {
   "cell_type": "code",
   "execution_count": 112,
   "metadata": {},
   "outputs": [
    {
     "name": "stdout",
     "output_type": "stream",
     "text": [
      "<class 'pandas.core.frame.DataFrame'>\n",
      "Int64Index: 19164 entries, 1 to 21596\n",
      "Data columns (total 18 columns):\n",
      "id               19164 non-null int64\n",
      "date             19164 non-null object\n",
      "price            19164 non-null float64\n",
      "bedrooms         19164 non-null int64\n",
      "bathrooms        19164 non-null float64\n",
      "sqft_living      19164 non-null int64\n",
      "sqft_lot         19164 non-null int64\n",
      "floors           19164 non-null float64\n",
      "waterfront       19164 non-null float64\n",
      "view             19164 non-null float64\n",
      "condition        19164 non-null int64\n",
      "grade            19164 non-null int64\n",
      "sqft_above       19164 non-null int64\n",
      "sqft_basement    19164 non-null float64\n",
      "yr_built         19164 non-null int64\n",
      "zipcode          19164 non-null object\n",
      "sqft_living15    19164 non-null int64\n",
      "sqft_lot15       19164 non-null int64\n",
      "dtypes: float64(6), int64(10), object(2)\n",
      "memory usage: 2.8+ MB\n"
     ]
    }
   ],
   "source": [
    "df.info()"
   ]
  },
  {
   "cell_type": "markdown",
   "metadata": {},
   "source": [
    "# OLS Model "
   ]
  },
  {
   "cell_type": "code",
   "execution_count": 113,
   "metadata": {},
   "outputs": [],
   "source": [
    "import statsmodels.api as sm\n",
    "from statsmodels.formula.api import ols\n",
    "import matplotlib.pyplot as plt\n",
    "plt.style.use('seaborn')"
   ]
  },
  {
   "cell_type": "code",
   "execution_count": 114,
   "metadata": {},
   "outputs": [],
   "source": [
    "f = 'price~ sqft_living'"
   ]
  },
  {
   "cell_type": "code",
   "execution_count": 115,
   "metadata": {},
   "outputs": [
    {
     "name": "stdout",
     "output_type": "stream",
     "text": [
      "                            OLS Regression Results                            \n",
      "==============================================================================\n",
      "Dep. Variable:                  price   R-squared:                       0.496\n",
      "Model:                            OLS   Adj. R-squared:                  0.496\n",
      "Method:                 Least Squares   F-statistic:                 1.887e+04\n",
      "Date:                Tue, 16 Apr 2019   Prob (F-statistic):               0.00\n",
      "Time:                        16:29:08   Log-Likelihood:            -2.6638e+05\n",
      "No. Observations:               19164   AIC:                         5.328e+05\n",
      "Df Residuals:                   19162   BIC:                         5.328e+05\n",
      "Df Model:                           1                                         \n",
      "Covariance Type:            nonrobust                                         \n",
      "===============================================================================\n",
      "                  coef    std err          t      P>|t|      [0.025      0.975]\n",
      "-------------------------------------------------------------------------------\n",
      "Intercept    -4.86e+04   4697.110    -10.348      0.000   -5.78e+04   -3.94e+04\n",
      "sqft_living   283.4016      2.063    137.384      0.000     279.358     287.445\n",
      "==============================================================================\n",
      "Omnibus:                    13130.357   Durbin-Watson:                   1.987\n",
      "Prob(Omnibus):                  0.000   Jarque-Bera (JB):           481938.438\n",
      "Skew:                           2.817   Prob(JB):                         0.00\n",
      "Kurtosis:                      26.913   Cond. No.                     5.62e+03\n",
      "==============================================================================\n",
      "\n",
      "Warnings:\n",
      "[1] Standard Errors assume that the covariance matrix of the errors is correctly specified.\n",
      "[2] The condition number is large, 5.62e+03. This might indicate that there are\n",
      "strong multicollinearity or other numerical problems.\n"
     ]
    }
   ],
   "source": [
    "model = ols(formula=f, data=df).fit()\n",
    "print(model.summary())"
   ]
  },
  {
   "cell_type": "code",
   "execution_count": 116,
   "metadata": {},
   "outputs": [
    {
     "data": {
      "text/plain": [
       "Intercept     -48604.077596\n",
       "sqft_living      283.401625\n",
       "dtype: float64"
      ]
     },
     "execution_count": 116,
     "metadata": {},
     "output_type": "execute_result"
    }
   ],
   "source": [
    "model.params"
   ]
  },
  {
   "cell_type": "code",
   "execution_count": 117,
   "metadata": {},
   "outputs": [
    {
     "data": {
      "image/png": "[encoded data removed]",
      "text/plain": [
       "<Figure size 1080x576 with 4 Axes>"
      ]
     },
     "metadata": {},
     "output_type": "display_data"
    }
   ],
   "source": [
    "fig = plt.figure(figsize =(15,8))\n",
    "fig = sm.graphics.plot_regress_exog(model, 'sqft_living', fig=fig)"
   ]
  },
  {
   "cell_type": "markdown",
   "metadata": {},
   "source": [
    "# Visualization\n",
    "\n",
    "Pairplot of Sqft Living, Bedrooms, Bathrooms in relation to Price."
   ]
  },
  {
   "cell_type": "code",
   "execution_count": 118,
   "metadata": {},
   "outputs": [
    {
     "name": "stderr",
     "output_type": "stream",
     "text": [
      "/Applications/anaconda3/envs/learn-env/lib/python3.6/site-packages/scipy/stats/stats.py:1713: FutureWarning: Using a non-tuple sequence for multidimensional indexing is deprecated; use `arr[tuple(seq)]` instead of `arr[seq]`. In the future this will be interpreted as an array index, `arr[np.array(seq)]`, which will result either in an error or a different result.\n",
      "  return np.add.reduce(sorted[indexer] * weights, axis=axis) / sumval\n"
     ]
    },
    {
     "data": {
      "text/plain": [
       "<seaborn.axisgrid.PairGrid at 0x1c198dd400>"
      ]
     },
     "execution_count": 118,
     "metadata": {},
     "output_type": "execute_result"
    },
    {
     "data": {
      "image/png": "[encoded data removed]",
      "text/plain": [
       "<Figure size 540x180 with 3 Axes>"
      ]
     },
     "metadata": {},
     "output_type": "display_data"
    }
   ],
   "source": [
    "sns.pairplot(df,x_vars=['sqft_living','bedrooms','bathrooms'], y_vars='price', kind='reg')"
   ]
  },
  {
   "cell_type": "markdown",
   "metadata": {},
   "source": [
    "# Multi-Collinearity of Features "
   ]
  },
  {
   "cell_type": "code",
   "execution_count": 119,
   "metadata": {},
   "outputs": [
    {
     "data": {
      "text/plain": [
       "<matplotlib.axes._subplots.AxesSubplot at 0x1c16df9828>"
      ]
     },
     "execution_count": 119,
     "metadata": {},
     "output_type": "execute_result"
    },
    {
     "data": {
      "image/png": "[encoded data removed]",
      "text/plain": [
       "<Figure size 792x648 with 2 Axes>"
      ]
     },
     "metadata": {},
     "output_type": "display_data"
    }
   ],
   "source": [
    "sns.set(style=\"white\")\n",
    "\n",
    "# Create a covariance matrix\n",
    "corr = df.corr()\n",
    "\n",
    "# Generate a mask the size of our covariance matrix\n",
    "mask = np.zeros_like(corr, dtype=bool)\n",
    "mask[np.triu_indices_from(mask)] = True\n",
    "\n",
    "# Set up the matplotlib figure\n",
    "f, ax = plt.subplots(figsize=(11,9))\n",
    "\n",
    "# Generate a custom diverging colormap\n",
    "cmap = sns.diverging_palette(220,10,as_cmap=True)\n",
    "\n",
    "# Draw the heatmap with the mask and correct aspect ratio\n",
    "sns.heatmap(corr,mask=mask,cmap=cmap,vmax=1,center=0,square=True, \n",
    "            linewidth=.5, cbar_kws={'shrink': .5})"
   ]
  },
  {
   "cell_type": "code",
   "execution_count": 120,
   "metadata": {},
   "outputs": [
    {
     "data": {
      "text/html": [
       "<div>\n",
       "<style scoped>\n",
       "    .dataframe tbody tr th:only-of-type {\n",
       "        vertical-align: middle;\n",
       "    }\n",
       "\n",
       "    .dataframe tbody tr th {\n",
       "        vertical-align: top;\n",
       "    }\n",
       "\n",
       "    .dataframe thead th {\n",
       "        text-align: right;\n",
       "    }\n",
       "</style>\n",
       "<table border=\"1\" class=\"dataframe\">\n",
       "  <thead>\n",
       "    <tr style=\"text-align: right;\">\n",
       "      <th></th>\n",
       "      <th>id</th>\n",
       "      <th>date</th>\n",
       "      <th>price</th>\n",
       "      <th>bedrooms</th>\n",
       "      <th>bathrooms</th>\n",
       "      <th>sqft_living</th>\n",
       "      <th>sqft_lot</th>\n",
       "      <th>floors</th>\n",
       "      <th>waterfront</th>\n",
       "      <th>view</th>\n",
       "      <th>condition</th>\n",
       "      <th>grade</th>\n",
       "      <th>sqft_above</th>\n",
       "      <th>sqft_basement</th>\n",
       "      <th>yr_built</th>\n",
       "      <th>zipcode</th>\n",
       "      <th>sqft_living15</th>\n",
       "      <th>sqft_lot15</th>\n",
       "    </tr>\n",
       "  </thead>\n",
       "  <tbody>\n",
       "    <tr>\n",
       "      <th>1</th>\n",
       "      <td>6414100192</td>\n",
       "      <td>12/9/2014</td>\n",
       "      <td>538000.0</td>\n",
       "      <td>3</td>\n",
       "      <td>2.25</td>\n",
       "      <td>2570</td>\n",
       "      <td>7242</td>\n",
       "      <td>2.0</td>\n",
       "      <td>0.0</td>\n",
       "      <td>0.0</td>\n",
       "      <td>3</td>\n",
       "      <td>7</td>\n",
       "      <td>2170</td>\n",
       "      <td>400.0</td>\n",
       "      <td>1951</td>\n",
       "      <td>98125</td>\n",
       "      <td>1690</td>\n",
       "      <td>7639</td>\n",
       "    </tr>\n",
       "    <tr>\n",
       "      <th>2</th>\n",
       "      <td>5631500400</td>\n",
       "      <td>2/25/2015</td>\n",
       "      <td>180000.0</td>\n",
       "      <td>2</td>\n",
       "      <td>1.00</td>\n",
       "      <td>770</td>\n",
       "      <td>10000</td>\n",
       "      <td>1.0</td>\n",
       "      <td>0.0</td>\n",
       "      <td>0.0</td>\n",
       "      <td>3</td>\n",
       "      <td>6</td>\n",
       "      <td>770</td>\n",
       "      <td>0.0</td>\n",
       "      <td>1933</td>\n",
       "      <td>98028</td>\n",
       "      <td>2720</td>\n",
       "      <td>8062</td>\n",
       "    </tr>\n",
       "    <tr>\n",
       "      <th>3</th>\n",
       "      <td>2487200875</td>\n",
       "      <td>12/9/2014</td>\n",
       "      <td>604000.0</td>\n",
       "      <td>4</td>\n",
       "      <td>3.00</td>\n",
       "      <td>1960</td>\n",
       "      <td>5000</td>\n",
       "      <td>1.0</td>\n",
       "      <td>0.0</td>\n",
       "      <td>0.0</td>\n",
       "      <td>5</td>\n",
       "      <td>7</td>\n",
       "      <td>1050</td>\n",
       "      <td>910.0</td>\n",
       "      <td>1965</td>\n",
       "      <td>98136</td>\n",
       "      <td>1360</td>\n",
       "      <td>5000</td>\n",
       "    </tr>\n",
       "    <tr>\n",
       "      <th>4</th>\n",
       "      <td>1954400510</td>\n",
       "      <td>2/18/2015</td>\n",
       "      <td>510000.0</td>\n",
       "      <td>3</td>\n",
       "      <td>2.00</td>\n",
       "      <td>1680</td>\n",
       "      <td>8080</td>\n",
       "      <td>1.0</td>\n",
       "      <td>0.0</td>\n",
       "      <td>0.0</td>\n",
       "      <td>3</td>\n",
       "      <td>8</td>\n",
       "      <td>1680</td>\n",
       "      <td>0.0</td>\n",
       "      <td>1987</td>\n",
       "      <td>98074</td>\n",
       "      <td>1800</td>\n",
       "      <td>7503</td>\n",
       "    </tr>\n",
       "    <tr>\n",
       "      <th>5</th>\n",
       "      <td>7237550310</td>\n",
       "      <td>5/12/2014</td>\n",
       "      <td>1230000.0</td>\n",
       "      <td>4</td>\n",
       "      <td>4.50</td>\n",
       "      <td>5420</td>\n",
       "      <td>101930</td>\n",
       "      <td>1.0</td>\n",
       "      <td>0.0</td>\n",
       "      <td>0.0</td>\n",
       "      <td>3</td>\n",
       "      <td>11</td>\n",
       "      <td>3890</td>\n",
       "      <td>1530.0</td>\n",
       "      <td>2001</td>\n",
       "      <td>98053</td>\n",
       "      <td>4760</td>\n",
       "      <td>101930</td>\n",
       "    </tr>\n",
       "  </tbody>\n",
       "</table>\n",
       "</div>"
      ],
      "text/plain": [
       "           id       date      price  bedrooms  bathrooms  sqft_living  \\\n",
       "1  6414100192  12/9/2014   538000.0         3       2.25         2570   \n",
       "2  5631500400  2/25/2015   180000.0         2       1.00          770   \n",
       "3  2487200875  12/9/2014   604000.0         4       3.00         1960   \n",
       "4  1954400510  2/18/2015   510000.0         3       2.00         1680   \n",
       "5  7237550310  5/12/2014  1230000.0         4       4.50         5420   \n",
       "\n",
       "   sqft_lot  floors  waterfront  view  condition  grade  sqft_above  \\\n",
       "1      7242     2.0         0.0   0.0          3      7        2170   \n",
       "2     10000     1.0         0.0   0.0          3      6         770   \n",
       "3      5000     1.0         0.0   0.0          5      7        1050   \n",
       "4      8080     1.0         0.0   0.0          3      8        1680   \n",
       "5    101930     1.0         0.0   0.0          3     11        3890   \n",
       "\n",
       "   sqft_basement  yr_built zipcode  sqft_living15  sqft_lot15  \n",
       "1          400.0      1951   98125           1690        7639  \n",
       "2            0.0      1933   98028           2720        8062  \n",
       "3          910.0      1965   98136           1360        5000  \n",
       "4            0.0      1987   98074           1800        7503  \n",
       "5         1530.0      2001   98053           4760      101930  "
      ]
     },
     "execution_count": 120,
     "metadata": {},
     "output_type": "execute_result"
    }
   ],
   "source": [
    "df.head()"
   ]
  },
  {
   "cell_type": "code",
   "execution_count": 121,
   "metadata": {},
   "outputs": [],
   "source": [
    "df_mc = df.iloc[:, 1:]"
   ]
  },
  {
   "cell_type": "code",
   "execution_count": 122,
   "metadata": {},
   "outputs": [
    {
     "data": {
      "text/html": [
       "<div>\n",
       "<style scoped>\n",
       "    .dataframe tbody tr th:only-of-type {\n",
       "        vertical-align: middle;\n",
       "    }\n",
       "\n",
       "    .dataframe tbody tr th {\n",
       "        vertical-align: top;\n",
       "    }\n",
       "\n",
       "    .dataframe thead th {\n",
       "        text-align: right;\n",
       "    }\n",
       "</style>\n",
       "<table border=\"1\" class=\"dataframe\">\n",
       "  <thead>\n",
       "    <tr style=\"text-align: right;\">\n",
       "      <th></th>\n",
       "      <th>price</th>\n",
       "      <th>bedrooms</th>\n",
       "      <th>bathrooms</th>\n",
       "      <th>sqft_living</th>\n",
       "      <th>sqft_lot</th>\n",
       "      <th>floors</th>\n",
       "      <th>waterfront</th>\n",
       "      <th>view</th>\n",
       "      <th>condition</th>\n",
       "      <th>grade</th>\n",
       "      <th>sqft_above</th>\n",
       "      <th>sqft_basement</th>\n",
       "      <th>yr_built</th>\n",
       "      <th>sqft_living15</th>\n",
       "      <th>sqft_lot15</th>\n",
       "    </tr>\n",
       "  </thead>\n",
       "  <tbody>\n",
       "    <tr>\n",
       "      <th>price</th>\n",
       "      <td>1.000000</td>\n",
       "      <td>0.309057</td>\n",
       "      <td>0.526609</td>\n",
       "      <td>0.704428</td>\n",
       "      <td>0.087430</td>\n",
       "      <td>0.258797</td>\n",
       "      <td>0.270982</td>\n",
       "      <td>0.395766</td>\n",
       "      <td>0.037514</td>\n",
       "      <td>0.667719</td>\n",
       "      <td>0.609611</td>\n",
       "      <td>0.318839</td>\n",
       "      <td>0.053433</td>\n",
       "      <td>0.582450</td>\n",
       "      <td>0.081562</td>\n",
       "    </tr>\n",
       "    <tr>\n",
       "      <th>bedrooms</th>\n",
       "      <td>0.309057</td>\n",
       "      <td>1.000000</td>\n",
       "      <td>0.516137</td>\n",
       "      <td>0.577972</td>\n",
       "      <td>0.029685</td>\n",
       "      <td>0.181909</td>\n",
       "      <td>-0.004082</td>\n",
       "      <td>0.083542</td>\n",
       "      <td>0.025047</td>\n",
       "      <td>0.359619</td>\n",
       "      <td>0.480400</td>\n",
       "      <td>0.295875</td>\n",
       "      <td>0.157011</td>\n",
       "      <td>0.392586</td>\n",
       "      <td>0.028005</td>\n",
       "    </tr>\n",
       "    <tr>\n",
       "      <th>bathrooms</th>\n",
       "      <td>0.526609</td>\n",
       "      <td>0.516137</td>\n",
       "      <td>1.000000</td>\n",
       "      <td>0.755909</td>\n",
       "      <td>0.085666</td>\n",
       "      <td>0.506058</td>\n",
       "      <td>0.064608</td>\n",
       "      <td>0.186980</td>\n",
       "      <td>-0.126612</td>\n",
       "      <td>0.666475</td>\n",
       "      <td>0.687621</td>\n",
       "      <td>0.277739</td>\n",
       "      <td>0.507069</td>\n",
       "      <td>0.569443</td>\n",
       "      <td>0.086466</td>\n",
       "    </tr>\n",
       "    <tr>\n",
       "      <th>sqft_living</th>\n",
       "      <td>0.704428</td>\n",
       "      <td>0.577972</td>\n",
       "      <td>0.755909</td>\n",
       "      <td>1.000000</td>\n",
       "      <td>0.173624</td>\n",
       "      <td>0.356938</td>\n",
       "      <td>0.107416</td>\n",
       "      <td>0.285976</td>\n",
       "      <td>-0.057704</td>\n",
       "      <td>0.763701</td>\n",
       "      <td>0.877669</td>\n",
       "      <td>0.427308</td>\n",
       "      <td>0.317123</td>\n",
       "      <td>0.755524</td>\n",
       "      <td>0.183177</td>\n",
       "    </tr>\n",
       "    <tr>\n",
       "      <th>sqft_lot</th>\n",
       "      <td>0.087430</td>\n",
       "      <td>0.029685</td>\n",
       "      <td>0.085666</td>\n",
       "      <td>0.173624</td>\n",
       "      <td>1.000000</td>\n",
       "      <td>-0.007519</td>\n",
       "      <td>0.023164</td>\n",
       "      <td>0.071064</td>\n",
       "      <td>-0.013656</td>\n",
       "      <td>0.114968</td>\n",
       "      <td>0.184383</td>\n",
       "      <td>0.014532</td>\n",
       "      <td>0.055560</td>\n",
       "      <td>0.146576</td>\n",
       "      <td>0.721839</td>\n",
       "    </tr>\n",
       "    <tr>\n",
       "      <th>floors</th>\n",
       "      <td>0.258797</td>\n",
       "      <td>0.181909</td>\n",
       "      <td>0.506058</td>\n",
       "      <td>0.356938</td>\n",
       "      <td>-0.007519</td>\n",
       "      <td>1.000000</td>\n",
       "      <td>0.021399</td>\n",
       "      <td>0.029147</td>\n",
       "      <td>-0.263421</td>\n",
       "      <td>0.458230</td>\n",
       "      <td>0.525039</td>\n",
       "      <td>-0.238997</td>\n",
       "      <td>0.490251</td>\n",
       "      <td>0.280229</td>\n",
       "      <td>-0.011145</td>\n",
       "    </tr>\n",
       "    <tr>\n",
       "      <th>waterfront</th>\n",
       "      <td>0.270982</td>\n",
       "      <td>-0.004082</td>\n",
       "      <td>0.064608</td>\n",
       "      <td>0.107416</td>\n",
       "      <td>0.023164</td>\n",
       "      <td>0.021399</td>\n",
       "      <td>1.000000</td>\n",
       "      <td>0.406654</td>\n",
       "      <td>0.017175</td>\n",
       "      <td>0.085644</td>\n",
       "      <td>0.073500</td>\n",
       "      <td>0.085962</td>\n",
       "      <td>-0.026612</td>\n",
       "      <td>0.087257</td>\n",
       "      <td>0.031958</td>\n",
       "    </tr>\n",
       "    <tr>\n",
       "      <th>view</th>\n",
       "      <td>0.395766</td>\n",
       "      <td>0.083542</td>\n",
       "      <td>0.186980</td>\n",
       "      <td>0.285976</td>\n",
       "      <td>0.071064</td>\n",
       "      <td>0.029147</td>\n",
       "      <td>0.406654</td>\n",
       "      <td>1.000000</td>\n",
       "      <td>0.047143</td>\n",
       "      <td>0.248898</td>\n",
       "      <td>0.168695</td>\n",
       "      <td>0.274985</td>\n",
       "      <td>-0.055862</td>\n",
       "      <td>0.276719</td>\n",
       "      <td>0.071207</td>\n",
       "    </tr>\n",
       "    <tr>\n",
       "      <th>condition</th>\n",
       "      <td>0.037514</td>\n",
       "      <td>0.025047</td>\n",
       "      <td>-0.126612</td>\n",
       "      <td>-0.057704</td>\n",
       "      <td>-0.013656</td>\n",
       "      <td>-0.263421</td>\n",
       "      <td>0.017175</td>\n",
       "      <td>0.047143</td>\n",
       "      <td>1.000000</td>\n",
       "      <td>-0.144898</td>\n",
       "      <td>-0.155922</td>\n",
       "      <td>0.166899</td>\n",
       "      <td>-0.361988</td>\n",
       "      <td>-0.092609</td>\n",
       "      <td>-0.004996</td>\n",
       "    </tr>\n",
       "    <tr>\n",
       "      <th>grade</th>\n",
       "      <td>0.667719</td>\n",
       "      <td>0.359619</td>\n",
       "      <td>0.666475</td>\n",
       "      <td>0.763701</td>\n",
       "      <td>0.114968</td>\n",
       "      <td>0.458230</td>\n",
       "      <td>0.085644</td>\n",
       "      <td>0.248898</td>\n",
       "      <td>-0.144898</td>\n",
       "      <td>1.000000</td>\n",
       "      <td>0.757406</td>\n",
       "      <td>0.165213</td>\n",
       "      <td>0.446364</td>\n",
       "      <td>0.713765</td>\n",
       "      <td>0.120664</td>\n",
       "    </tr>\n",
       "    <tr>\n",
       "      <th>sqft_above</th>\n",
       "      <td>0.609611</td>\n",
       "      <td>0.480400</td>\n",
       "      <td>0.687621</td>\n",
       "      <td>0.877669</td>\n",
       "      <td>0.184383</td>\n",
       "      <td>0.525039</td>\n",
       "      <td>0.073500</td>\n",
       "      <td>0.168695</td>\n",
       "      <td>-0.155922</td>\n",
       "      <td>0.757406</td>\n",
       "      <td>1.000000</td>\n",
       "      <td>-0.049853</td>\n",
       "      <td>0.421530</td>\n",
       "      <td>0.732868</td>\n",
       "      <td>0.192594</td>\n",
       "    </tr>\n",
       "    <tr>\n",
       "      <th>sqft_basement</th>\n",
       "      <td>0.318839</td>\n",
       "      <td>0.295875</td>\n",
       "      <td>0.277739</td>\n",
       "      <td>0.427308</td>\n",
       "      <td>0.014532</td>\n",
       "      <td>-0.238997</td>\n",
       "      <td>0.085962</td>\n",
       "      <td>0.274985</td>\n",
       "      <td>0.166899</td>\n",
       "      <td>0.165213</td>\n",
       "      <td>-0.049853</td>\n",
       "      <td>1.000000</td>\n",
       "      <td>-0.128037</td>\n",
       "      <td>0.195741</td>\n",
       "      <td>0.017619</td>\n",
       "    </tr>\n",
       "    <tr>\n",
       "      <th>yr_built</th>\n",
       "      <td>0.053433</td>\n",
       "      <td>0.157011</td>\n",
       "      <td>0.507069</td>\n",
       "      <td>0.317123</td>\n",
       "      <td>0.055560</td>\n",
       "      <td>0.490251</td>\n",
       "      <td>-0.026612</td>\n",
       "      <td>-0.055862</td>\n",
       "      <td>-0.361988</td>\n",
       "      <td>0.446364</td>\n",
       "      <td>0.421530</td>\n",
       "      <td>-0.128037</td>\n",
       "      <td>1.000000</td>\n",
       "      <td>0.325420</td>\n",
       "      <td>0.070685</td>\n",
       "    </tr>\n",
       "    <tr>\n",
       "      <th>sqft_living15</th>\n",
       "      <td>0.582450</td>\n",
       "      <td>0.392586</td>\n",
       "      <td>0.569443</td>\n",
       "      <td>0.755524</td>\n",
       "      <td>0.146576</td>\n",
       "      <td>0.280229</td>\n",
       "      <td>0.087257</td>\n",
       "      <td>0.276719</td>\n",
       "      <td>-0.092609</td>\n",
       "      <td>0.713765</td>\n",
       "      <td>0.732868</td>\n",
       "      <td>0.195741</td>\n",
       "      <td>0.325420</td>\n",
       "      <td>1.000000</td>\n",
       "      <td>0.184054</td>\n",
       "    </tr>\n",
       "    <tr>\n",
       "      <th>sqft_lot15</th>\n",
       "      <td>0.081562</td>\n",
       "      <td>0.028005</td>\n",
       "      <td>0.086466</td>\n",
       "      <td>0.183177</td>\n",
       "      <td>0.721839</td>\n",
       "      <td>-0.011145</td>\n",
       "      <td>0.031958</td>\n",
       "      <td>0.071207</td>\n",
       "      <td>-0.004996</td>\n",
       "      <td>0.120664</td>\n",
       "      <td>0.192594</td>\n",
       "      <td>0.017619</td>\n",
       "      <td>0.070685</td>\n",
       "      <td>0.184054</td>\n",
       "      <td>1.000000</td>\n",
       "    </tr>\n",
       "  </tbody>\n",
       "</table>\n",
       "</div>"
      ],
      "text/plain": [
       "                  price  bedrooms  bathrooms  sqft_living  sqft_lot    floors  \\\n",
       "price          1.000000  0.309057   0.526609     0.704428  0.087430  0.258797   \n",
       "bedrooms       0.309057  1.000000   0.516137     0.577972  0.029685  0.181909   \n",
       "bathrooms      0.526609  0.516137   1.000000     0.755909  0.085666  0.506058   \n",
       "sqft_living    0.704428  0.577972   0.755909     1.000000  0.173624  0.356938   \n",
       "sqft_lot       0.087430  0.029685   0.085666     0.173624  1.000000 -0.007519   \n",
       "floors         0.258797  0.181909   0.506058     0.356938 -0.007519  1.000000   \n",
       "waterfront     0.270982 -0.004082   0.064608     0.107416  0.023164  0.021399   \n",
       "view           0.395766  0.083542   0.186980     0.285976  0.071064  0.029147   \n",
       "condition      0.037514  0.025047  -0.126612    -0.057704 -0.013656 -0.263421   \n",
       "grade          0.667719  0.359619   0.666475     0.763701  0.114968  0.458230   \n",
       "sqft_above     0.609611  0.480400   0.687621     0.877669  0.184383  0.525039   \n",
       "sqft_basement  0.318839  0.295875   0.277739     0.427308  0.014532 -0.238997   \n",
       "yr_built       0.053433  0.157011   0.507069     0.317123  0.055560  0.490251   \n",
       "sqft_living15  0.582450  0.392586   0.569443     0.755524  0.146576  0.280229   \n",
       "sqft_lot15     0.081562  0.028005   0.086466     0.183177  0.721839 -0.011145   \n",
       "\n",
       "               waterfront      view  condition     grade  sqft_above  \\\n",
       "price            0.270982  0.395766   0.037514  0.667719    0.609611   \n",
       "bedrooms        -0.004082  0.083542   0.025047  0.359619    0.480400   \n",
       "bathrooms        0.064608  0.186980  -0.126612  0.666475    0.687621   \n",
       "sqft_living      0.107416  0.285976  -0.057704  0.763701    0.877669   \n",
       "sqft_lot         0.023164  0.071064  -0.013656  0.114968    0.184383   \n",
       "floors           0.021399  0.029147  -0.263421  0.458230    0.525039   \n",
       "waterfront       1.000000  0.406654   0.017175  0.085644    0.073500   \n",
       "view             0.406654  1.000000   0.047143  0.248898    0.168695   \n",
       "condition        0.017175  0.047143   1.000000 -0.144898   -0.155922   \n",
       "grade            0.085644  0.248898  -0.144898  1.000000    0.757406   \n",
       "sqft_above       0.073500  0.168695  -0.155922  0.757406    1.000000   \n",
       "sqft_basement    0.085962  0.274985   0.166899  0.165213   -0.049853   \n",
       "yr_built        -0.026612 -0.055862  -0.361988  0.446364    0.421530   \n",
       "sqft_living15    0.087257  0.276719  -0.092609  0.713765    0.732868   \n",
       "sqft_lot15       0.031958  0.071207  -0.004996  0.120664    0.192594   \n",
       "\n",
       "               sqft_basement  yr_built  sqft_living15  sqft_lot15  \n",
       "price               0.318839  0.053433       0.582450    0.081562  \n",
       "bedrooms            0.295875  0.157011       0.392586    0.028005  \n",
       "bathrooms           0.277739  0.507069       0.569443    0.086466  \n",
       "sqft_living         0.427308  0.317123       0.755524    0.183177  \n",
       "sqft_lot            0.014532  0.055560       0.146576    0.721839  \n",
       "floors             -0.238997  0.490251       0.280229   -0.011145  \n",
       "waterfront          0.085962 -0.026612       0.087257    0.031958  \n",
       "view                0.274985 -0.055862       0.276719    0.071207  \n",
       "condition           0.166899 -0.361988      -0.092609   -0.004996  \n",
       "grade               0.165213  0.446364       0.713765    0.120664  \n",
       "sqft_above         -0.049853  0.421530       0.732868    0.192594  \n",
       "sqft_basement       1.000000 -0.128037       0.195741    0.017619  \n",
       "yr_built           -0.128037  1.000000       0.325420    0.070685  \n",
       "sqft_living15       0.195741  0.325420       1.000000    0.184054  \n",
       "sqft_lot15          0.017619  0.070685       0.184054    1.000000  "
      ]
     },
     "execution_count": 122,
     "metadata": {},
     "output_type": "execute_result"
    }
   ],
   "source": [
    "df_mc.corr()\n"
   ]
  },
  {
   "cell_type": "code",
   "execution_count": 123,
   "metadata": {},
   "outputs": [
    {
     "data": {
      "text/html": [
       "<div>\n",
       "<style scoped>\n",
       "    .dataframe tbody tr th:only-of-type {\n",
       "        vertical-align: middle;\n",
       "    }\n",
       "\n",
       "    .dataframe tbody tr th {\n",
       "        vertical-align: top;\n",
       "    }\n",
       "\n",
       "    .dataframe thead th {\n",
       "        text-align: right;\n",
       "    }\n",
       "</style>\n",
       "<table border=\"1\" class=\"dataframe\">\n",
       "  <thead>\n",
       "    <tr style=\"text-align: right;\">\n",
       "      <th></th>\n",
       "      <th>price</th>\n",
       "      <th>bedrooms</th>\n",
       "      <th>bathrooms</th>\n",
       "      <th>sqft_living</th>\n",
       "      <th>sqft_lot</th>\n",
       "      <th>floors</th>\n",
       "      <th>waterfront</th>\n",
       "      <th>view</th>\n",
       "      <th>condition</th>\n",
       "      <th>grade</th>\n",
       "      <th>sqft_above</th>\n",
       "      <th>sqft_basement</th>\n",
       "      <th>yr_built</th>\n",
       "      <th>sqft_living15</th>\n",
       "      <th>sqft_lot15</th>\n",
       "    </tr>\n",
       "  </thead>\n",
       "  <tbody>\n",
       "    <tr>\n",
       "      <th>price</th>\n",
       "      <td>True</td>\n",
       "      <td>False</td>\n",
       "      <td>False</td>\n",
       "      <td>False</td>\n",
       "      <td>False</td>\n",
       "      <td>False</td>\n",
       "      <td>False</td>\n",
       "      <td>False</td>\n",
       "      <td>False</td>\n",
       "      <td>False</td>\n",
       "      <td>False</td>\n",
       "      <td>False</td>\n",
       "      <td>False</td>\n",
       "      <td>False</td>\n",
       "      <td>False</td>\n",
       "    </tr>\n",
       "    <tr>\n",
       "      <th>bedrooms</th>\n",
       "      <td>False</td>\n",
       "      <td>True</td>\n",
       "      <td>False</td>\n",
       "      <td>False</td>\n",
       "      <td>False</td>\n",
       "      <td>False</td>\n",
       "      <td>False</td>\n",
       "      <td>False</td>\n",
       "      <td>False</td>\n",
       "      <td>False</td>\n",
       "      <td>False</td>\n",
       "      <td>False</td>\n",
       "      <td>False</td>\n",
       "      <td>False</td>\n",
       "      <td>False</td>\n",
       "    </tr>\n",
       "    <tr>\n",
       "      <th>bathrooms</th>\n",
       "      <td>False</td>\n",
       "      <td>False</td>\n",
       "      <td>True</td>\n",
       "      <td>True</td>\n",
       "      <td>False</td>\n",
       "      <td>False</td>\n",
       "      <td>False</td>\n",
       "      <td>False</td>\n",
       "      <td>False</td>\n",
       "      <td>False</td>\n",
       "      <td>False</td>\n",
       "      <td>False</td>\n",
       "      <td>False</td>\n",
       "      <td>False</td>\n",
       "      <td>False</td>\n",
       "    </tr>\n",
       "    <tr>\n",
       "      <th>sqft_living</th>\n",
       "      <td>False</td>\n",
       "      <td>False</td>\n",
       "      <td>True</td>\n",
       "      <td>True</td>\n",
       "      <td>False</td>\n",
       "      <td>False</td>\n",
       "      <td>False</td>\n",
       "      <td>False</td>\n",
       "      <td>False</td>\n",
       "      <td>True</td>\n",
       "      <td>True</td>\n",
       "      <td>False</td>\n",
       "      <td>False</td>\n",
       "      <td>True</td>\n",
       "      <td>False</td>\n",
       "    </tr>\n",
       "    <tr>\n",
       "      <th>sqft_lot</th>\n",
       "      <td>False</td>\n",
       "      <td>False</td>\n",
       "      <td>False</td>\n",
       "      <td>False</td>\n",
       "      <td>True</td>\n",
       "      <td>False</td>\n",
       "      <td>False</td>\n",
       "      <td>False</td>\n",
       "      <td>False</td>\n",
       "      <td>False</td>\n",
       "      <td>False</td>\n",
       "      <td>False</td>\n",
       "      <td>False</td>\n",
       "      <td>False</td>\n",
       "      <td>False</td>\n",
       "    </tr>\n",
       "    <tr>\n",
       "      <th>floors</th>\n",
       "      <td>False</td>\n",
       "      <td>False</td>\n",
       "      <td>False</td>\n",
       "      <td>False</td>\n",
       "      <td>False</td>\n",
       "      <td>True</td>\n",
       "      <td>False</td>\n",
       "      <td>False</td>\n",
       "      <td>False</td>\n",
       "      <td>False</td>\n",
       "      <td>False</td>\n",
       "      <td>False</td>\n",
       "      <td>False</td>\n",
       "      <td>False</td>\n",
       "      <td>False</td>\n",
       "    </tr>\n",
       "    <tr>\n",
       "      <th>waterfront</th>\n",
       "      <td>False</td>\n",
       "      <td>False</td>\n",
       "      <td>False</td>\n",
       "      <td>False</td>\n",
       "      <td>False</td>\n",
       "      <td>False</td>\n",
       "      <td>True</td>\n",
       "      <td>False</td>\n",
       "      <td>False</td>\n",
       "      <td>False</td>\n",
       "      <td>False</td>\n",
       "      <td>False</td>\n",
       "      <td>False</td>\n",
       "      <td>False</td>\n",
       "      <td>False</td>\n",
       "    </tr>\n",
       "    <tr>\n",
       "      <th>view</th>\n",
       "      <td>False</td>\n",
       "      <td>False</td>\n",
       "      <td>False</td>\n",
       "      <td>False</td>\n",
       "      <td>False</td>\n",
       "      <td>False</td>\n",
       "      <td>False</td>\n",
       "      <td>True</td>\n",
       "      <td>False</td>\n",
       "      <td>False</td>\n",
       "      <td>False</td>\n",
       "      <td>False</td>\n",
       "      <td>False</td>\n",
       "      <td>False</td>\n",
       "      <td>False</td>\n",
       "    </tr>\n",
       "    <tr>\n",
       "      <th>condition</th>\n",
       "      <td>False</td>\n",
       "      <td>False</td>\n",
       "      <td>False</td>\n",
       "      <td>False</td>\n",
       "      <td>False</td>\n",
       "      <td>False</td>\n",
       "      <td>False</td>\n",
       "      <td>False</td>\n",
       "      <td>True</td>\n",
       "      <td>False</td>\n",
       "      <td>False</td>\n",
       "      <td>False</td>\n",
       "      <td>False</td>\n",
       "      <td>False</td>\n",
       "      <td>False</td>\n",
       "    </tr>\n",
       "    <tr>\n",
       "      <th>grade</th>\n",
       "      <td>False</td>\n",
       "      <td>False</td>\n",
       "      <td>False</td>\n",
       "      <td>True</td>\n",
       "      <td>False</td>\n",
       "      <td>False</td>\n",
       "      <td>False</td>\n",
       "      <td>False</td>\n",
       "      <td>False</td>\n",
       "      <td>True</td>\n",
       "      <td>True</td>\n",
       "      <td>False</td>\n",
       "      <td>False</td>\n",
       "      <td>False</td>\n",
       "      <td>False</td>\n",
       "    </tr>\n",
       "    <tr>\n",
       "      <th>sqft_above</th>\n",
       "      <td>False</td>\n",
       "      <td>False</td>\n",
       "      <td>False</td>\n",
       "      <td>True</td>\n",
       "      <td>False</td>\n",
       "      <td>False</td>\n",
       "      <td>False</td>\n",
       "      <td>False</td>\n",
       "      <td>False</td>\n",
       "      <td>True</td>\n",
       "      <td>True</td>\n",
       "      <td>False</td>\n",
       "      <td>False</td>\n",
       "      <td>False</td>\n",
       "      <td>False</td>\n",
       "    </tr>\n",
       "    <tr>\n",
       "      <th>sqft_basement</th>\n",
       "      <td>False</td>\n",
       "      <td>False</td>\n",
       "      <td>False</td>\n",
       "      <td>False</td>\n",
       "      <td>False</td>\n",
       "      <td>False</td>\n",
       "      <td>False</td>\n",
       "      <td>False</td>\n",
       "      <td>False</td>\n",
       "      <td>False</td>\n",
       "      <td>False</td>\n",
       "      <td>True</td>\n",
       "      <td>False</td>\n",
       "      <td>False</td>\n",
       "      <td>False</td>\n",
       "    </tr>\n",
       "    <tr>\n",
       "      <th>yr_built</th>\n",
       "      <td>False</td>\n",
       "      <td>False</td>\n",
       "      <td>False</td>\n",
       "      <td>False</td>\n",
       "      <td>False</td>\n",
       "      <td>False</td>\n",
       "      <td>False</td>\n",
       "      <td>False</td>\n",
       "      <td>False</td>\n",
       "      <td>False</td>\n",
       "      <td>False</td>\n",
       "      <td>False</td>\n",
       "      <td>True</td>\n",
       "      <td>False</td>\n",
       "      <td>False</td>\n",
       "    </tr>\n",
       "    <tr>\n",
       "      <th>sqft_living15</th>\n",
       "      <td>False</td>\n",
       "      <td>False</td>\n",
       "      <td>False</td>\n",
       "      <td>True</td>\n",
       "      <td>False</td>\n",
       "      <td>False</td>\n",
       "      <td>False</td>\n",
       "      <td>False</td>\n",
       "      <td>False</td>\n",
       "      <td>False</td>\n",
       "      <td>False</td>\n",
       "      <td>False</td>\n",
       "      <td>False</td>\n",
       "      <td>True</td>\n",
       "      <td>False</td>\n",
       "    </tr>\n",
       "    <tr>\n",
       "      <th>sqft_lot15</th>\n",
       "      <td>False</td>\n",
       "      <td>False</td>\n",
       "      <td>False</td>\n",
       "      <td>False</td>\n",
       "      <td>False</td>\n",
       "      <td>False</td>\n",
       "      <td>False</td>\n",
       "      <td>False</td>\n",
       "      <td>False</td>\n",
       "      <td>False</td>\n",
       "      <td>False</td>\n",
       "      <td>False</td>\n",
       "      <td>False</td>\n",
       "      <td>False</td>\n",
       "      <td>True</td>\n",
       "    </tr>\n",
       "  </tbody>\n",
       "</table>\n",
       "</div>"
      ],
      "text/plain": [
       "               price  bedrooms  bathrooms  sqft_living  sqft_lot  floors  \\\n",
       "price           True     False      False        False     False   False   \n",
       "bedrooms       False      True      False        False     False   False   \n",
       "bathrooms      False     False       True         True     False   False   \n",
       "sqft_living    False     False       True         True     False   False   \n",
       "sqft_lot       False     False      False        False      True   False   \n",
       "floors         False     False      False        False     False    True   \n",
       "waterfront     False     False      False        False     False   False   \n",
       "view           False     False      False        False     False   False   \n",
       "condition      False     False      False        False     False   False   \n",
       "grade          False     False      False         True     False   False   \n",
       "sqft_above     False     False      False         True     False   False   \n",
       "sqft_basement  False     False      False        False     False   False   \n",
       "yr_built       False     False      False        False     False   False   \n",
       "sqft_living15  False     False      False         True     False   False   \n",
       "sqft_lot15     False     False      False        False     False   False   \n",
       "\n",
       "               waterfront   view  condition  grade  sqft_above  sqft_basement  \\\n",
       "price               False  False      False  False       False          False   \n",
       "bedrooms            False  False      False  False       False          False   \n",
       "bathrooms           False  False      False  False       False          False   \n",
       "sqft_living         False  False      False   True        True          False   \n",
       "sqft_lot            False  False      False  False       False          False   \n",
       "floors              False  False      False  False       False          False   \n",
       "waterfront           True  False      False  False       False          False   \n",
       "view                False   True      False  False       False          False   \n",
       "condition           False  False       True  False       False          False   \n",
       "grade               False  False      False   True        True          False   \n",
       "sqft_above          False  False      False   True        True          False   \n",
       "sqft_basement       False  False      False  False       False           True   \n",
       "yr_built            False  False      False  False       False          False   \n",
       "sqft_living15       False  False      False  False       False          False   \n",
       "sqft_lot15          False  False      False  False       False          False   \n",
       "\n",
       "               yr_built  sqft_living15  sqft_lot15  \n",
       "price             False          False       False  \n",
       "bedrooms          False          False       False  \n",
       "bathrooms         False          False       False  \n",
       "sqft_living       False           True       False  \n",
       "sqft_lot          False          False       False  \n",
       "floors            False          False       False  \n",
       "waterfront        False          False       False  \n",
       "view              False          False       False  \n",
       "condition         False          False       False  \n",
       "grade             False          False       False  \n",
       "sqft_above        False          False       False  \n",
       "sqft_basement     False          False       False  \n",
       "yr_built           True          False       False  \n",
       "sqft_living15     False           True       False  \n",
       "sqft_lot15        False          False        True  "
      ]
     },
     "execution_count": 123,
     "metadata": {},
     "output_type": "execute_result"
    }
   ],
   "source": [
    "abs(df_mc.corr()) > .75"
   ]
  },
  {
   "cell_type": "markdown",
   "metadata": {},
   "source": [
    "# EDA"
   ]
  },
  {
   "cell_type": "markdown",
   "metadata": {},
   "source": [
    "## Day 1: Creating Linear Models in order to explore and understand the relationships in our data"
   ]
  },
  {
   "cell_type": "markdown",
   "metadata": {},
   "source": [
    "## MODEL 1\n",
    "Sqft Living, Bedrooms, Bathrooms vs Price. All of these factors are attributes of the house, and may increase or decrease price depending on whether they increase or decrease.\n",
    "\n",
    "RMSE = 267,760"
   ]
  },
  {
   "cell_type": "code",
   "execution_count": 124,
   "metadata": {},
   "outputs": [],
   "source": [
    "import sklearn"
   ]
  },
  {
   "cell_type": "code",
   "execution_count": 125,
   "metadata": {},
   "outputs": [
    {
     "name": "stdout",
     "output_type": "stream",
     "text": [
      "-50393.4502417224\n",
      "[ 2.96862661e+02 -3.07106204e-01 -9.50930266e+03]\n"
     ]
    },
    {
     "data": {
      "text/plain": [
       "<zip at 0x1c16dd5f48>"
      ]
     },
     "execution_count": 125,
     "metadata": {},
     "output_type": "execute_result"
    }
   ],
   "source": [
    "feature_cols = ['sqft_living','sqft_lot','bathrooms']\n",
    "X = df[feature_cols]\n",
    "y =df['price']\n",
    "\n",
    "from sklearn.model_selection import train_test_split\n",
    "\n",
    "X_train, X_test, y_train, y_test = train_test_split(X,y)\n",
    "\n",
    "from sklearn.linear_model import LinearRegression\n",
    "\n",
    "linreg1 = LinearRegression()\n",
    "linreg1.fit(X_train, y_train)\n",
    "\n",
    "print(linreg1.intercept_)\n",
    "\n",
    "print(linreg1.coef_)\n",
    "\n",
    "zip(feature_cols, linreg1.coef_)"
   ]
  },
  {
   "cell_type": "code",
   "execution_count": 126,
   "metadata": {},
   "outputs": [],
   "source": [
    "y_pred = linreg1.predict(X_test)"
   ]
  },
  {
   "cell_type": "code",
   "execution_count": 127,
   "metadata": {},
   "outputs": [
    {
     "name": "stdout",
     "output_type": "stream",
     "text": [
      "170177.4613615296\n",
      "61372991917.835915\n",
      "247735.72999839147\n"
     ]
    }
   ],
   "source": [
    "from sklearn import metrics\n",
    "\n",
    "#result of Mean Absolute Error\n",
    "print(metrics.mean_absolute_error(y_test, y_pred))\n",
    "\n",
    "#result of Mean Squared Error\n",
    "print(metrics.mean_squared_error(y_test, y_pred))\n",
    "\n",
    "#result Root Mean Squared Error\n",
    "print(np.sqrt(metrics.mean_squared_error(y_test, y_pred)))"
   ]
  },
  {
   "cell_type": "markdown",
   "metadata": {},
   "source": [
    "## Results of Model 1"
   ]
  },
  {
   "cell_type": "code",
   "execution_count": 128,
   "metadata": {},
   "outputs": [],
   "source": [
    "from sklearn.model_selection import cross_val_score"
   ]
  },
  {
   "cell_type": "code",
   "execution_count": 129,
   "metadata": {},
   "outputs": [
    {
     "name": "stdout",
     "output_type": "stream",
     "text": [
      "[278393.57142165 267676.8013491  249457.58989135 252751.00383729\n",
      " 266351.31599542]\n",
      "[ 150923.59401485  -14389.56609158 -102606.07398399 ...  209800.83129656\n",
      " -157241.10655057  -80055.95945065]\n",
      "[538000. 180000. 604000. ... 400000. 402101. 325000.]\n",
      "0.4974174551370462\n"
     ]
    }
   ],
   "source": [
    "print(np.sqrt(-cross_val_score(linreg1, X, y, cv=5, scoring='neg_mean_squared_error')))\n",
    "\n",
    "print(linreg1.predict(X)-y.values)\n",
    "print(y.values)\n",
    "print(linreg1.score(X,y))"
   ]
  },
  {
   "cell_type": "markdown",
   "metadata": {},
   "source": [
    "## MODEL 2\n",
    "SqFt Living 15, Sqft Loft 15, Grade vs Price: These factors were selected to see if there was a correlation between quality of neighborhood vs the price of home. \n",
    "\n",
    "RMSE = 268,447"
   ]
  },
  {
   "cell_type": "code",
   "execution_count": 130,
   "metadata": {},
   "outputs": [
    {
     "name": "stdout",
     "output_type": "stream",
     "text": [
      "-958746.3558276349\n",
      "[ 1.21531554e+02 -3.13755469e-01  1.65089711e+05]\n"
     ]
    },
    {
     "data": {
      "text/plain": [
       "<zip at 0x1c16da3ec8>"
      ]
     },
     "execution_count": 130,
     "metadata": {},
     "output_type": "execute_result"
    }
   ],
   "source": [
    "feature_cols = ['sqft_living15','sqft_lot15','grade']\n",
    "X = df[feature_cols]\n",
    "y =df['price']\n",
    "\n",
    "from sklearn.model_selection import train_test_split\n",
    "\n",
    "X_train, X_test, y_train, y_test = train_test_split(X,y)\n",
    "\n",
    "from sklearn.linear_model import LinearRegression\n",
    "\n",
    "linreg2 = LinearRegression()\n",
    "linreg2.fit(X_train, y_train)\n",
    "\n",
    "print(linreg2.intercept_)\n",
    "\n",
    "print(linreg2.coef_)\n",
    "\n",
    "zip(feature_cols, linreg2.coef_)"
   ]
  },
  {
   "cell_type": "code",
   "execution_count": 131,
   "metadata": {},
   "outputs": [],
   "source": [
    "y_pred = linreg2.predict(X_test)"
   ]
  },
  {
   "cell_type": "code",
   "execution_count": 132,
   "metadata": {},
   "outputs": [
    {
     "name": "stdout",
     "output_type": "stream",
     "text": [
      "170033.855518158\n",
      "63080698192.17135\n",
      "251158.71116123238\n"
     ]
    }
   ],
   "source": [
    "from sklearn import metrics\n",
    "\n",
    "#result of Mean Absolute Error\n",
    "print(metrics.mean_absolute_error(y_test, y_pred))\n",
    "\n",
    "#result of Mean Squared Error\n",
    "print(metrics.mean_squared_error(y_test, y_pred))\n",
    "\n",
    "#result Root Mean Squared Error\n",
    "print(np.sqrt(metrics.mean_squared_error(y_test, y_pred)))"
   ]
  },
  {
   "cell_type": "markdown",
   "metadata": {},
   "source": [
    "## Results of Model 2"
   ]
  },
  {
   "cell_type": "code",
   "execution_count": 133,
   "metadata": {},
   "outputs": [
    {
     "name": "stdout",
     "output_type": "stream",
     "text": [
      "[291293.81712908 281063.53171511 251292.5976687  253390.13104581\n",
      " 273899.68732832]\n",
      "[-138126.8328366   179828.23901413 -243404.24509692 ...  182115.0340163\n",
      "  -81886.90346494   -4581.96241008]\n",
      "[538000. 180000. 604000. ... 400000. 402101. 325000.]\n",
      "0.4689025947944729\n"
     ]
    }
   ],
   "source": [
    "print(np.sqrt(-cross_val_score(linreg2, X, y, cv=5, scoring='neg_mean_squared_error')))\n",
    "\n",
    "print(linreg2.predict(X)-y.values)\n",
    "print(y.values)\n",
    "print(linreg2.score(X,y))"
   ]
  },
  {
   "cell_type": "markdown",
   "metadata": {},
   "source": [
    "## Model 3\n",
    "Sqft vs Price\n",
    "\n",
    "RMSE = 272,526"
   ]
  },
  {
   "cell_type": "code",
   "execution_count": 134,
   "metadata": {},
   "outputs": [
    {
     "name": "stdout",
     "output_type": "stream",
     "text": [
      "-51419.81818777346\n",
      "[284.0436934]\n"
     ]
    },
    {
     "data": {
      "text/plain": [
       "<zip at 0x1c16dd92c8>"
      ]
     },
     "execution_count": 134,
     "metadata": {},
     "output_type": "execute_result"
    }
   ],
   "source": [
    "feature_cols = ['sqft_living']\n",
    "X = df[feature_cols]\n",
    "y =df['price']\n",
    "\n",
    "from sklearn.model_selection import train_test_split\n",
    "\n",
    "X_train, X_test, y_train, y_test = train_test_split(X,y)\n",
    "\n",
    "from sklearn.linear_model import LinearRegression\n",
    "\n",
    "linreg3 = LinearRegression()\n",
    "linreg3.fit(X_train, y_train)\n",
    "\n",
    "print(linreg3.intercept_)\n",
    "\n",
    "print(linreg3.coef_)\n",
    "\n",
    "zip(feature_cols, linreg3.coef_)\n",
    "\n"
   ]
  },
  {
   "cell_type": "code",
   "execution_count": 135,
   "metadata": {},
   "outputs": [],
   "source": [
    "\"\"\"PREDICTION OF Y\"\"\"\n",
    "y_pred = linreg3.predict(X_test)"
   ]
  },
  {
   "cell_type": "code",
   "execution_count": 136,
   "metadata": {},
   "outputs": [
    {
     "name": "stdout",
     "output_type": "stream",
     "text": [
      "175583.2123041612\n",
      "69631809473.18102\n",
      "263878.39902724326\n"
     ]
    }
   ],
   "source": [
    "\"\"\"OUTPUTTING RMSE \"\"\"\n",
    "from sklearn import metrics\n",
    "\n",
    "#result of Mean Absolute Error\n",
    "print(metrics.mean_absolute_error(y_test, y_pred))\n",
    "\n",
    "#result of Mean Squared Error\n",
    "print(metrics.mean_squared_error(y_test, y_pred))\n",
    "\n",
    "#result Root Mean Squared Error\n",
    "print(np.sqrt(metrics.mean_squared_error(y_test, y_pred)))"
   ]
  },
  {
   "cell_type": "markdown",
   "metadata": {},
   "source": [
    "## Results of Model 3"
   ]
  },
  {
   "cell_type": "code",
   "execution_count": 137,
   "metadata": {},
   "outputs": [
    {
     "name": "stdout",
     "output_type": "stream",
     "text": [
      "[278314.48481802 268163.69621184 250119.46322606 253178.38548632\n",
      " 266150.56171007]\n",
      "[ 140572.47385452  -12706.17426849  -98694.1791205  ...  204721.11357009\n",
      " -163796.25091807  -86695.25091807]\n",
      "[538000. 180000. 604000. ... 400000. 402101. 325000.]\n",
      "0.49620080770457714\n"
     ]
    }
   ],
   "source": [
    "print(np.sqrt(-cross_val_score(linreg3, X, y, cv=5, scoring='neg_mean_squared_error')))\n",
    "\n",
    "print(linreg3.predict(X)-y.values)\n",
    "print(y.values)\n",
    "print(linreg3.score(X,y))"
   ]
  },
  {
   "cell_type": "markdown",
   "metadata": {},
   "source": [
    "## Model 4 \n",
    "Grade vs Price\n",
    "\n",
    "RMSE: 275,061\n"
   ]
  },
  {
   "cell_type": "code",
   "execution_count": 138,
   "metadata": {},
   "outputs": [
    {
     "name": "stdout",
     "output_type": "stream",
     "text": [
      "-1069463.9975282205\n",
      "[210254.49206087]\n"
     ]
    },
    {
     "data": {
      "text/plain": [
       "<zip at 0x1c16db3dc8>"
      ]
     },
     "execution_count": 138,
     "metadata": {},
     "output_type": "execute_result"
    }
   ],
   "source": [
    "feature_cols = ['grade']\n",
    "X = df[feature_cols]\n",
    "y =df['price']\n",
    "\n",
    "from sklearn.model_selection import train_test_split\n",
    "\n",
    "X_train, X_test, y_train, y_test = train_test_split(X,y)\n",
    "\n",
    "from sklearn.linear_model import LinearRegression\n",
    "\n",
    "linreg4 = LinearRegression()\n",
    "linreg4.fit(X_train, y_train)\n",
    "\n",
    "print(linreg4.intercept_)\n",
    "\n",
    "print(linreg4.coef_)\n",
    "\n",
    "zip(feature_cols, linreg4.coef_)"
   ]
  },
  {
   "cell_type": "code",
   "execution_count": 139,
   "metadata": {},
   "outputs": [],
   "source": [
    "\"\"\"PREDICTION OF Y\"\"\"\n",
    "y_pred = linreg4.predict(X_test)"
   ]
  },
  {
   "cell_type": "code",
   "execution_count": 140,
   "metadata": {},
   "outputs": [
    {
     "name": "stdout",
     "output_type": "stream",
     "text": [
      "176906.9759716921\n",
      "77336362119.20238\n",
      "278094.160526974\n"
     ]
    }
   ],
   "source": [
    "\"\"\"OUTPUTTING RMSE \"\"\"\n",
    "from sklearn import metrics\n",
    "\n",
    "#result of Mean Absolute Error\n",
    "print(metrics.mean_absolute_error(y_test, y_pred))\n",
    "\n",
    "#result of Mean Squared Error\n",
    "print(metrics.mean_squared_error(y_test, y_pred))\n",
    "\n",
    "#result Root Mean Squared Error\n",
    "print(np.sqrt(metrics.mean_squared_error(y_test, y_pred)))"
   ]
  },
  {
   "cell_type": "markdown",
   "metadata": {},
   "source": [
    "## Results of Model 4"
   ]
  },
  {
   "cell_type": "code",
   "execution_count": 141,
   "metadata": {},
   "outputs": [
    {
     "name": "stdout",
     "output_type": "stream",
     "text": [
      "[298012.25528092 286247.06509287 258318.69969054 260525.58778684\n",
      " 276417.33183734]\n",
      "[-135682.55310214   12062.95483699 -201682.55310214 ...  212571.93895873\n",
      "     216.44689786   77317.44689786]\n",
      "[538000. 180000. 604000. ... 400000. 402101. 325000.]\n",
      "0.44584623889746766\n"
     ]
    }
   ],
   "source": [
    "print(np.sqrt(-cross_val_score(linreg4, X, y, cv=5, scoring='neg_mean_squared_error')))\n",
    "\n",
    "print(linreg4.predict(X)-y.values)\n",
    "print(y.values)\n",
    "print(linreg4.score(X,y))"
   ]
  },
  {
   "cell_type": "markdown",
   "metadata": {},
   "source": [
    "# Model 5\n",
    "Year Built and SQFT Living in relation to Price.\n",
    "\n",
    "RMSE: 239,004"
   ]
  },
  {
   "cell_type": "code",
   "execution_count": 142,
   "metadata": {},
   "outputs": [
    {
     "name": "stdout",
     "output_type": "stream",
     "text": [
      "4570601.550984547\n",
      "[-2371.45225437   310.54593394]\n"
     ]
    },
    {
     "data": {
      "text/plain": [
       "<zip at 0x1c16dcce88>"
      ]
     },
     "execution_count": 142,
     "metadata": {},
     "output_type": "execute_result"
    }
   ],
   "source": [
    "feature_cols = ['yr_built', 'sqft_living' ]\n",
    "X = df[feature_cols]\n",
    "y =df['price']\n",
    "\n",
    "from sklearn.model_selection import train_test_split\n",
    "\n",
    "X_train, X_test, y_train, y_test = train_test_split(X,y)\n",
    "\n",
    "from sklearn.linear_model import LinearRegression\n",
    "\n",
    "linreg5 = LinearRegression()\n",
    "linreg5.fit(X_train, y_train)\n",
    "\n",
    "print(linreg5.intercept_)\n",
    "\n",
    "print(linreg5.coef_)\n",
    "\n",
    "zip(feature_cols, linreg5.coef_)"
   ]
  },
  {
   "cell_type": "code",
   "execution_count": 143,
   "metadata": {},
   "outputs": [],
   "source": [
    "\"\"\"PREDICTION OF Y\"\"\"\n",
    "y_pred = linreg5.predict(X_test)"
   ]
  },
  {
   "cell_type": "code",
   "execution_count": 144,
   "metadata": {
    "scrolled": true
   },
   "outputs": [
    {
     "name": "stdout",
     "output_type": "stream",
     "text": [
      "163781.22727690364\n",
      "59548133791.20016\n",
      "244024.8630594845\n"
     ]
    }
   ],
   "source": [
    "\"\"\"OUTPUTTING RMSE \"\"\"\n",
    "from sklearn import metrics\n",
    "\n",
    "#result of Mean Absolute Error\n",
    "print(metrics.mean_absolute_error(y_test, y_pred))\n",
    "\n",
    "#result of Mean Squared Error\n",
    "print(metrics.mean_squared_error(y_test, y_pred))\n",
    "\n",
    "#result Root Mean Squared Error\n",
    "print(np.sqrt(metrics.mean_squared_error(y_test, y_pred)))"
   ]
  },
  {
   "cell_type": "markdown",
   "metadata": {},
   "source": [
    "## Results of Model 5"
   ]
  },
  {
   "cell_type": "code",
   "execution_count": 145,
   "metadata": {},
   "outputs": [
    {
     "name": "stdout",
     "output_type": "stream",
     "text": [
      "[268201.47298304 256758.84916746 240597.08582375 242870.73228201\n",
      " 268986.80523217]\n",
      "[ 204001.25293864   45704.71242152  -84632.09832723 ...  111857.81808834\n",
      " -278990.17542512 -199517.72317075]\n",
      "[538000. 180000. 604000. ... 400000. 402101. 325000.]\n",
      "0.5282548572647299\n"
     ]
    }
   ],
   "source": [
    "print(np.sqrt(-cross_val_score(linreg5, X, y, cv=5, scoring='neg_mean_squared_error')))\n",
    "\n",
    "print(linreg5.predict(X)-y.values)\n",
    "print(y.values)\n",
    "print(linreg5.score(X,y))"
   ]
  },
  {
   "cell_type": "markdown",
   "metadata": {},
   "source": [
    "# Model 6\n",
    "Year Built, Condition, SQFT Living in relation to Price.\n",
    "\n",
    "RMSE: "
   ]
  },
  {
   "cell_type": "code",
   "execution_count": 146,
   "metadata": {},
   "outputs": [
    {
     "name": "stdout",
     "output_type": "stream",
     "text": [
      "3894527.5389872934\n",
      "[-2008.95083882   280.53448924 89756.69966251]\n"
     ]
    },
    {
     "data": {
      "text/plain": [
       "<zip at 0x1c16dd04c8>"
      ]
     },
     "execution_count": 146,
     "metadata": {},
     "output_type": "execute_result"
    }
   ],
   "source": [
    "feature_cols = ['yr_built', 'sqft_living', 'view' ]\n",
    "X = df[feature_cols]\n",
    "y =df['price']\n",
    "\n",
    "from sklearn.model_selection import train_test_split\n",
    "\n",
    "X_train, X_test, y_train, y_test = train_test_split(X,y)\n",
    "\n",
    "from sklearn.linear_model import LinearRegression\n",
    "\n",
    "linreg6 = LinearRegression()\n",
    "linreg6.fit(X_train, y_train)\n",
    "\n",
    "print(linreg6.intercept_)\n",
    "\n",
    "print(linreg6.coef_)\n",
    "\n",
    "zip(feature_cols, linreg6.coef_)"
   ]
  },
  {
   "cell_type": "code",
   "execution_count": 147,
   "metadata": {},
   "outputs": [],
   "source": [
    "\"\"\"PREDICTION OF Y\"\"\"\n",
    "y_pred = linreg6.predict(X_test)"
   ]
  },
  {
   "cell_type": "code",
   "execution_count": 148,
   "metadata": {
    "scrolled": false
   },
   "outputs": [
    {
     "name": "stdout",
     "output_type": "stream",
     "text": [
      "165793.0144642556\n",
      "62961043031.06708\n",
      "250920.39181992976\n"
     ]
    }
   ],
   "source": [
    "\"\"\"OUTPUTTING RMSE \"\"\"\n",
    "from sklearn import metrics\n",
    "\n",
    "#result of Mean Absolute Error\n",
    "print(metrics.mean_absolute_error(y_test, y_pred))\n",
    "\n",
    "#result of Mean Squared Error\n",
    "print(metrics.mean_squared_error(y_test, y_pred))\n",
    "\n",
    "#result Root Mean Squared Error\n",
    "print(np.sqrt(metrics.mean_squared_error(y_test, y_pred)))"
   ]
  },
  {
   "cell_type": "markdown",
   "metadata": {},
   "source": [
    "## Results of Model 6"
   ]
  },
  {
   "cell_type": "code",
   "execution_count": 149,
   "metadata": {},
   "outputs": [
    {
     "name": "stdout",
     "output_type": "stream",
     "text": [
      "[258185.97687799 249637.84858877 234106.18620743 233686.81704428\n",
      " 259690.56996349]\n",
      "[ 158038.08981085   47237.12426873 -107213.26037202 ...   96535.21976157\n",
      " -257410.51717029 -178300.56633147]\n",
      "[538000. 180000. 604000. ... 400000. 402101. 325000.]\n",
      "0.5593288699423387\n"
     ]
    }
   ],
   "source": [
    "print(np.sqrt(-cross_val_score(linreg6, X, y, cv=5, scoring='neg_mean_squared_error')))\n",
    "\n",
    "print(linreg6.predict(X)-y.values)\n",
    "print(y.values)\n",
    "print(linreg6.score(X,y))"
   ]
  },
  {
   "cell_type": "markdown",
   "metadata": {},
   "source": [
    "# Model 7\n",
    "SQFT Lving vs SQFT Living15 vs Price"
   ]
  },
  {
   "cell_type": "code",
   "execution_count": 150,
   "metadata": {},
   "outputs": [
    {
     "name": "stdout",
     "output_type": "stream",
     "text": [
      "-214823.55077754706\n",
      "[5.26226342e+01 2.34678251e+02 6.88694334e+04 6.48982485e+05\n",
      " 4.02083827e+04 3.35781954e+03]\n"
     ]
    },
    {
     "data": {
      "text/plain": [
       "<zip at 0x1c1727e548>"
      ]
     },
     "execution_count": 150,
     "metadata": {},
     "output_type": "execute_result"
    }
   ],
   "source": [
    "feature_cols = ['sqft_living15', 'sqft_living', 'view', 'waterfront', 'condition', 'bathrooms']\n",
    "X = df[feature_cols]\n",
    "y =df['price']\n",
    "\n",
    "from sklearn.model_selection import train_test_split\n",
    "\n",
    "X_train, X_test, y_train, y_test = train_test_split(X,y)\n",
    "\n",
    "from sklearn.linear_model import LinearRegression\n",
    "\n",
    "linreg7 = LinearRegression()\n",
    "linreg7.fit(X_train, y_train)\n",
    "\n",
    "print(linreg7.intercept_)\n",
    "\n",
    "print(linreg7.coef_)\n",
    "\n",
    "zip(feature_cols, linreg7.coef_)"
   ]
  },
  {
   "cell_type": "code",
   "execution_count": 151,
   "metadata": {},
   "outputs": [],
   "source": [
    "\"\"\"PREDICTION OF Y\"\"\"\n",
    "y_pred = linreg7.predict(X_test)"
   ]
  },
  {
   "cell_type": "code",
   "execution_count": 152,
   "metadata": {
    "scrolled": true
   },
   "outputs": [
    {
     "name": "stdout",
     "output_type": "stream",
     "text": [
      "162581.04265280522\n",
      "53844025104.75924\n",
      "232043.153539938\n"
     ]
    }
   ],
   "source": [
    "\"\"\"OUTPUTTING RMSE \"\"\"\n",
    "from sklearn import metrics\n",
    "\n",
    "#result of Mean Absolute Error\n",
    "print(metrics.mean_absolute_error(y_test, y_pred))\n",
    "\n",
    "#result of Mean Squared Error\n",
    "print(metrics.mean_squared_error(y_test, y_pred))\n",
    "\n",
    "#result Root Mean Squared Error\n",
    "print(np.sqrt(metrics.mean_squared_error(y_test, y_pred)))"
   ]
  },
  {
   "cell_type": "markdown",
   "metadata": {},
   "source": [
    "## Results of Model 7"
   ]
  },
  {
   "cell_type": "code",
   "execution_count": 153,
   "metadata": {},
   "outputs": [
    {
     "name": "stdout",
     "output_type": "stream",
     "text": [
      "[254327.11137192 251161.33696306 233978.62780389 236030.12904327\n",
      " 256107.07847637]\n",
      "[  67412.04841108   52995.23526758  -76172.02391689 ...  152602.32680196\n",
      " -200734.13496826 -123633.13496826]\n",
      "[538000. 180000. 604000. ... 400000. 402101. 325000.]\n",
      "0.5619693181406192\n"
     ]
    }
   ],
   "source": [
    "print(np.sqrt(-cross_val_score(linreg7, X, y, cv=5, scoring='neg_mean_squared_error')))\n",
    "\n",
    "print(linreg7.predict(X)-y.values)\n",
    "print(y.values)\n",
    "print(linreg7.score(X,y))"
   ]
  },
  {
   "cell_type": "markdown",
   "metadata": {},
   "source": [
    "# Model Comparison Graph"
   ]
  },
  {
   "cell_type": "code",
   "execution_count": 154,
   "metadata": {},
   "outputs": [
    {
     "data": {
      "image/png": "[encoded data removed]",
      "text/plain": [
       "<Figure size 576x396 with 1 Axes>"
      ]
     },
     "metadata": {},
     "output_type": "display_data"
    }
   ],
   "source": [
    "Values ={'Model 1': 272526.5175180645, 'Model 2': 280403.1883537865, \n",
    "         'Model 3': 272526.5175180645, 'Model 4': 275061.1093215885, \n",
    "         'Model 5': 239004.38679856234, 'Model 6': 252386.96082953044,\n",
    "        'Model 7': 225867.24350925296}\n",
    "\"\"\"Model 7 is overfit\"\"\"\n",
    "#plt.scatter(Values['key'], Values['value'])\n",
    "\n",
    "# for key in comp:\n",
    "\n",
    "#     plt.bar([key]*8, comp[key], label=key)\n",
    "\n",
    "# plt.legend()\n",
    "# plt.show()\n",
    "\n",
    "plt.bar(range(len(Values)), list(Values.values()), color = ('Black'))\n",
    "plt.ylim(220000,300000)\n",
    "plt.xlabel('Models')\n",
    "plt.ylabel('RMSE')\n",
    "plt.title('RMSE Scores')\n",
    "plt.show()\n",
    "\n",
    "\n",
    "\n",
    "\n",
    "\n",
    "\n",
    "\n",
    "\n",
    "\n"
   ]
  },
  {
   "cell_type": "code",
   "execution_count": 155,
   "metadata": {
    "scrolled": true
   },
   "outputs": [
    {
     "data": {
      "text/html": [
       "<div>\n",
       "<style scoped>\n",
       "    .dataframe tbody tr th:only-of-type {\n",
       "        vertical-align: middle;\n",
       "    }\n",
       "\n",
       "    .dataframe tbody tr th {\n",
       "        vertical-align: top;\n",
       "    }\n",
       "\n",
       "    .dataframe thead th {\n",
       "        text-align: right;\n",
       "    }\n",
       "</style>\n",
       "<table border=\"1\" class=\"dataframe\">\n",
       "  <thead>\n",
       "    <tr style=\"text-align: right;\">\n",
       "      <th></th>\n",
       "      <th>id</th>\n",
       "      <th>price</th>\n",
       "      <th>bedrooms</th>\n",
       "      <th>bathrooms</th>\n",
       "      <th>sqft_living</th>\n",
       "      <th>sqft_lot</th>\n",
       "      <th>floors</th>\n",
       "      <th>waterfront</th>\n",
       "      <th>view</th>\n",
       "      <th>condition</th>\n",
       "      <th>grade</th>\n",
       "      <th>sqft_above</th>\n",
       "      <th>sqft_basement</th>\n",
       "      <th>yr_built</th>\n",
       "      <th>sqft_living15</th>\n",
       "      <th>sqft_lot15</th>\n",
       "    </tr>\n",
       "  </thead>\n",
       "  <tbody>\n",
       "    <tr>\n",
       "      <th>count</th>\n",
       "      <td>1.916400e+04</td>\n",
       "      <td>1.916400e+04</td>\n",
       "      <td>19164.000000</td>\n",
       "      <td>19164.000000</td>\n",
       "      <td>19164.000000</td>\n",
       "      <td>1.916400e+04</td>\n",
       "      <td>19164.000000</td>\n",
       "      <td>19164.000000</td>\n",
       "      <td>19164.000000</td>\n",
       "      <td>19164.000000</td>\n",
       "      <td>19164.000000</td>\n",
       "      <td>19164.000000</td>\n",
       "      <td>19164.000000</td>\n",
       "      <td>19164.000000</td>\n",
       "      <td>19164.000000</td>\n",
       "      <td>19164.000000</td>\n",
       "    </tr>\n",
       "    <tr>\n",
       "      <th>mean</th>\n",
       "      <td>4.594087e+09</td>\n",
       "      <td>5.414490e+05</td>\n",
       "      <td>3.374452</td>\n",
       "      <td>2.117029</td>\n",
       "      <td>2082.038301</td>\n",
       "      <td>1.506174e+04</td>\n",
       "      <td>1.495173</td>\n",
       "      <td>0.007566</td>\n",
       "      <td>0.231058</td>\n",
       "      <td>3.409987</td>\n",
       "      <td>7.660718</td>\n",
       "      <td>1791.425433</td>\n",
       "      <td>284.380662</td>\n",
       "      <td>1971.039553</td>\n",
       "      <td>1987.221874</td>\n",
       "      <td>12797.653882</td>\n",
       "    </tr>\n",
       "    <tr>\n",
       "      <th>std</th>\n",
       "      <td>2.876912e+09</td>\n",
       "      <td>3.709009e+05</td>\n",
       "      <td>0.928676</td>\n",
       "      <td>0.769241</td>\n",
       "      <td>921.918226</td>\n",
       "      <td>4.077215e+04</td>\n",
       "      <td>0.540308</td>\n",
       "      <td>0.086657</td>\n",
       "      <td>0.763368</td>\n",
       "      <td>0.650456</td>\n",
       "      <td>1.175601</td>\n",
       "      <td>831.776073</td>\n",
       "      <td>439.443059</td>\n",
       "      <td>29.388020</td>\n",
       "      <td>684.787028</td>\n",
       "      <td>27552.634083</td>\n",
       "    </tr>\n",
       "    <tr>\n",
       "      <th>min</th>\n",
       "      <td>1.000102e+06</td>\n",
       "      <td>7.800000e+04</td>\n",
       "      <td>1.000000</td>\n",
       "      <td>0.500000</td>\n",
       "      <td>370.000000</td>\n",
       "      <td>5.200000e+02</td>\n",
       "      <td>1.000000</td>\n",
       "      <td>0.000000</td>\n",
       "      <td>0.000000</td>\n",
       "      <td>1.000000</td>\n",
       "      <td>3.000000</td>\n",
       "      <td>370.000000</td>\n",
       "      <td>0.000000</td>\n",
       "      <td>1900.000000</td>\n",
       "      <td>399.000000</td>\n",
       "      <td>651.000000</td>\n",
       "    </tr>\n",
       "    <tr>\n",
       "      <th>25%</th>\n",
       "      <td>2.124077e+09</td>\n",
       "      <td>3.220000e+05</td>\n",
       "      <td>3.000000</td>\n",
       "      <td>1.750000</td>\n",
       "      <td>1430.000000</td>\n",
       "      <td>5.040000e+03</td>\n",
       "      <td>1.000000</td>\n",
       "      <td>0.000000</td>\n",
       "      <td>0.000000</td>\n",
       "      <td>3.000000</td>\n",
       "      <td>7.000000</td>\n",
       "      <td>1200.000000</td>\n",
       "      <td>0.000000</td>\n",
       "      <td>1951.000000</td>\n",
       "      <td>1490.000000</td>\n",
       "      <td>5100.000000</td>\n",
       "    </tr>\n",
       "    <tr>\n",
       "      <th>50%</th>\n",
       "      <td>3.905082e+09</td>\n",
       "      <td>4.500000e+05</td>\n",
       "      <td>3.000000</td>\n",
       "      <td>2.250000</td>\n",
       "      <td>1920.000000</td>\n",
       "      <td>7.620000e+03</td>\n",
       "      <td>1.500000</td>\n",
       "      <td>0.000000</td>\n",
       "      <td>0.000000</td>\n",
       "      <td>3.000000</td>\n",
       "      <td>7.000000</td>\n",
       "      <td>1560.000000</td>\n",
       "      <td>0.000000</td>\n",
       "      <td>1975.000000</td>\n",
       "      <td>1840.000000</td>\n",
       "      <td>7620.000000</td>\n",
       "    </tr>\n",
       "    <tr>\n",
       "      <th>75%</th>\n",
       "      <td>7.334501e+09</td>\n",
       "      <td>6.439625e+05</td>\n",
       "      <td>4.000000</td>\n",
       "      <td>2.500000</td>\n",
       "      <td>2550.000000</td>\n",
       "      <td>1.072000e+04</td>\n",
       "      <td>2.000000</td>\n",
       "      <td>0.000000</td>\n",
       "      <td>0.000000</td>\n",
       "      <td>4.000000</td>\n",
       "      <td>8.000000</td>\n",
       "      <td>2217.750000</td>\n",
       "      <td>540.000000</td>\n",
       "      <td>1997.000000</td>\n",
       "      <td>2360.000000</td>\n",
       "      <td>10093.250000</td>\n",
       "    </tr>\n",
       "    <tr>\n",
       "      <th>max</th>\n",
       "      <td>9.900000e+09</td>\n",
       "      <td>7.700000e+06</td>\n",
       "      <td>33.000000</td>\n",
       "      <td>8.000000</td>\n",
       "      <td>13540.000000</td>\n",
       "      <td>1.651359e+06</td>\n",
       "      <td>3.500000</td>\n",
       "      <td>1.000000</td>\n",
       "      <td>4.000000</td>\n",
       "      <td>5.000000</td>\n",
       "      <td>13.000000</td>\n",
       "      <td>9410.000000</td>\n",
       "      <td>4820.000000</td>\n",
       "      <td>2015.000000</td>\n",
       "      <td>6210.000000</td>\n",
       "      <td>871200.000000</td>\n",
       "    </tr>\n",
       "  </tbody>\n",
       "</table>\n",
       "</div>"
      ],
      "text/plain": [
       "                 id         price      bedrooms     bathrooms   sqft_living  \\\n",
       "count  1.916400e+04  1.916400e+04  19164.000000  19164.000000  19164.000000   \n",
       "mean   4.594087e+09  5.414490e+05      3.374452      2.117029   2082.038301   \n",
       "std    2.876912e+09  3.709009e+05      0.928676      0.769241    921.918226   \n",
       "min    1.000102e+06  7.800000e+04      1.000000      0.500000    370.000000   \n",
       "25%    2.124077e+09  3.220000e+05      3.000000      1.750000   1430.000000   \n",
       "50%    3.905082e+09  4.500000e+05      3.000000      2.250000   1920.000000   \n",
       "75%    7.334501e+09  6.439625e+05      4.000000      2.500000   2550.000000   \n",
       "max    9.900000e+09  7.700000e+06     33.000000      8.000000  13540.000000   \n",
       "\n",
       "           sqft_lot        floors    waterfront          view     condition  \\\n",
       "count  1.916400e+04  19164.000000  19164.000000  19164.000000  19164.000000   \n",
       "mean   1.506174e+04      1.495173      0.007566      0.231058      3.409987   \n",
       "std    4.077215e+04      0.540308      0.086657      0.763368      0.650456   \n",
       "min    5.200000e+02      1.000000      0.000000      0.000000      1.000000   \n",
       "25%    5.040000e+03      1.000000      0.000000      0.000000      3.000000   \n",
       "50%    7.620000e+03      1.500000      0.000000      0.000000      3.000000   \n",
       "75%    1.072000e+04      2.000000      0.000000      0.000000      4.000000   \n",
       "max    1.651359e+06      3.500000      1.000000      4.000000      5.000000   \n",
       "\n",
       "              grade    sqft_above  sqft_basement      yr_built  sqft_living15  \\\n",
       "count  19164.000000  19164.000000   19164.000000  19164.000000   19164.000000   \n",
       "mean       7.660718   1791.425433     284.380662   1971.039553    1987.221874   \n",
       "std        1.175601    831.776073     439.443059     29.388020     684.787028   \n",
       "min        3.000000    370.000000       0.000000   1900.000000     399.000000   \n",
       "25%        7.000000   1200.000000       0.000000   1951.000000    1490.000000   \n",
       "50%        7.000000   1560.000000       0.000000   1975.000000    1840.000000   \n",
       "75%        8.000000   2217.750000     540.000000   1997.000000    2360.000000   \n",
       "max       13.000000   9410.000000    4820.000000   2015.000000    6210.000000   \n",
       "\n",
       "          sqft_lot15  \n",
       "count   19164.000000  \n",
       "mean    12797.653882  \n",
       "std     27552.634083  \n",
       "min       651.000000  \n",
       "25%      5100.000000  \n",
       "50%      7620.000000  \n",
       "75%     10093.250000  \n",
       "max    871200.000000  "
      ]
     },
     "execution_count": 155,
     "metadata": {},
     "output_type": "execute_result"
    }
   ],
   "source": [
    "df.describe()"
   ]
  },
  {
   "cell_type": "markdown",
   "metadata": {},
   "source": [
    "## Day 2: Understanding and manipulating data in order to create a more effective model\n"
   ]
  },
  {
   "cell_type": "code",
   "execution_count": 156,
   "metadata": {},
   "outputs": [
    {
     "name": "stdout",
     "output_type": "stream",
     "text": [
      "<class 'pandas.core.frame.DataFrame'>\n",
      "Int64Index: 19164 entries, 1 to 21596\n",
      "Data columns (total 18 columns):\n",
      "id               19164 non-null int64\n",
      "date             19164 non-null object\n",
      "price            19164 non-null float64\n",
      "bedrooms         19164 non-null int64\n",
      "bathrooms        19164 non-null float64\n",
      "sqft_living      19164 non-null int64\n",
      "sqft_lot         19164 non-null int64\n",
      "floors           19164 non-null float64\n",
      "waterfront       19164 non-null float64\n",
      "view             19164 non-null float64\n",
      "condition        19164 non-null int64\n",
      "grade            19164 non-null int64\n",
      "sqft_above       19164 non-null int64\n",
      "sqft_basement    19164 non-null float64\n",
      "yr_built         19164 non-null int64\n",
      "zipcode          19164 non-null object\n",
      "sqft_living15    19164 non-null int64\n",
      "sqft_lot15       19164 non-null int64\n",
      "dtypes: float64(6), int64(10), object(2)\n",
      "memory usage: 2.8+ MB\n"
     ]
    }
   ],
   "source": [
    "df.info()"
   ]
  },
  {
   "cell_type": "code",
   "execution_count": 157,
   "metadata": {},
   "outputs": [],
   "source": [
    "import statsmodels.formula.api as smf\n"
   ]
  },
  {
   "cell_type": "code",
   "execution_count": 186,
   "metadata": {},
   "outputs": [],
   "source": [
    "# col_names = df.describe().columns.drop(['price'])\n",
    "# results = [['ind_var', 'r_squared', 'intercept', 'slope', 'p-value' ]]\n",
    "# for idx, val in enumerate(col_names):\n",
    "#     print (\"Df: Weekly_Sales~\" + val)\n",
    "#     print (\"------------------------------\")\n",
    "\n",
    "#     f = 'price~' + val\n",
    "#     model = smf.ols(formula=f, data=df).fit()\n",
    "#     X_new = pd.DataFrame({val: [df[val].min(), df[val].max()]});\n",
    "#     preds = model.predict(X_new)\n",
    "#     results.append([val, model.rsquared, model.params[0], model.params[1], model.pvalues[1] ])\n",
    "#     print(results[idx+1])"
   ]
  },
  {
   "cell_type": "code",
   "execution_count": 185,
   "metadata": {},
   "outputs": [],
   "source": [
    "#pd.DataFrame(results)"
   ]
  },
  {
   "cell_type": "code",
   "execution_count": 184,
   "metadata": {},
   "outputs": [],
   "source": [
    "#_=df.hist(figsize = (22,30))\n",
    "\n"
   ]
  },
  {
   "cell_type": "markdown",
   "metadata": {},
   "source": [
    "## Notes:\n",
    "\n",
    "### SqFt Living, SqFt Living15, SqFt Above, Yr_Built are all skewed. \n",
    "\n",
    "### Some outliers we may need to look at are SqFt Lot and SqFt Lot15\n",
    "\n",
    "### Grade is very normal, so it could be a good indicator of how price. \n",
    "\n",
    "\n",
    "\n"
   ]
  },
  {
   "cell_type": "code",
   "execution_count": 161,
   "metadata": {},
   "outputs": [],
   "source": [
    "# for column in ['bathrooms',\n",
    "#        'bedrooms', 'sqft_living', 'sqft_living15', 'sqft_lot', 'sqft_lot15', 'floors', 'waterfront', 'view', 'condition', 'grade', 'yr_built', 'price']:\n",
    "#     df[column].plot.hist(density=True )\n",
    "#     df[column].plot.kde(label=column )\n",
    "#     plt.legend()\n",
    "#     plt.show()"
   ]
  },
  {
   "cell_type": "code",
   "execution_count": 162,
   "metadata": {},
   "outputs": [
    {
     "data": {
      "text/html": [
       "<div>\n",
       "<style scoped>\n",
       "    .dataframe tbody tr th:only-of-type {\n",
       "        vertical-align: middle;\n",
       "    }\n",
       "\n",
       "    .dataframe tbody tr th {\n",
       "        vertical-align: top;\n",
       "    }\n",
       "\n",
       "    .dataframe thead th {\n",
       "        text-align: right;\n",
       "    }\n",
       "</style>\n",
       "<table border=\"1\" class=\"dataframe\">\n",
       "  <thead>\n",
       "    <tr style=\"text-align: right;\">\n",
       "      <th></th>\n",
       "      <th>id</th>\n",
       "      <th>date</th>\n",
       "      <th>price</th>\n",
       "      <th>bedrooms</th>\n",
       "      <th>bathrooms</th>\n",
       "      <th>sqft_living</th>\n",
       "      <th>sqft_lot</th>\n",
       "      <th>floors</th>\n",
       "      <th>waterfront</th>\n",
       "      <th>view</th>\n",
       "      <th>condition</th>\n",
       "      <th>grade</th>\n",
       "      <th>sqft_above</th>\n",
       "      <th>sqft_basement</th>\n",
       "      <th>yr_built</th>\n",
       "      <th>zipcode</th>\n",
       "      <th>sqft_living15</th>\n",
       "      <th>sqft_lot15</th>\n",
       "    </tr>\n",
       "  </thead>\n",
       "  <tbody>\n",
       "    <tr>\n",
       "      <th>1</th>\n",
       "      <td>6414100192</td>\n",
       "      <td>12/9/2014</td>\n",
       "      <td>538000.0</td>\n",
       "      <td>3</td>\n",
       "      <td>2.25</td>\n",
       "      <td>2570</td>\n",
       "      <td>7242</td>\n",
       "      <td>2.0</td>\n",
       "      <td>0.0</td>\n",
       "      <td>0.0</td>\n",
       "      <td>3</td>\n",
       "      <td>7</td>\n",
       "      <td>2170</td>\n",
       "      <td>400.0</td>\n",
       "      <td>1951</td>\n",
       "      <td>98125</td>\n",
       "      <td>1690</td>\n",
       "      <td>7639</td>\n",
       "    </tr>\n",
       "    <tr>\n",
       "      <th>2</th>\n",
       "      <td>5631500400</td>\n",
       "      <td>2/25/2015</td>\n",
       "      <td>180000.0</td>\n",
       "      <td>2</td>\n",
       "      <td>1.00</td>\n",
       "      <td>770</td>\n",
       "      <td>10000</td>\n",
       "      <td>1.0</td>\n",
       "      <td>0.0</td>\n",
       "      <td>0.0</td>\n",
       "      <td>3</td>\n",
       "      <td>6</td>\n",
       "      <td>770</td>\n",
       "      <td>0.0</td>\n",
       "      <td>1933</td>\n",
       "      <td>98028</td>\n",
       "      <td>2720</td>\n",
       "      <td>8062</td>\n",
       "    </tr>\n",
       "    <tr>\n",
       "      <th>3</th>\n",
       "      <td>2487200875</td>\n",
       "      <td>12/9/2014</td>\n",
       "      <td>604000.0</td>\n",
       "      <td>4</td>\n",
       "      <td>3.00</td>\n",
       "      <td>1960</td>\n",
       "      <td>5000</td>\n",
       "      <td>1.0</td>\n",
       "      <td>0.0</td>\n",
       "      <td>0.0</td>\n",
       "      <td>5</td>\n",
       "      <td>7</td>\n",
       "      <td>1050</td>\n",
       "      <td>910.0</td>\n",
       "      <td>1965</td>\n",
       "      <td>98136</td>\n",
       "      <td>1360</td>\n",
       "      <td>5000</td>\n",
       "    </tr>\n",
       "    <tr>\n",
       "      <th>4</th>\n",
       "      <td>1954400510</td>\n",
       "      <td>2/18/2015</td>\n",
       "      <td>510000.0</td>\n",
       "      <td>3</td>\n",
       "      <td>2.00</td>\n",
       "      <td>1680</td>\n",
       "      <td>8080</td>\n",
       "      <td>1.0</td>\n",
       "      <td>0.0</td>\n",
       "      <td>0.0</td>\n",
       "      <td>3</td>\n",
       "      <td>8</td>\n",
       "      <td>1680</td>\n",
       "      <td>0.0</td>\n",
       "      <td>1987</td>\n",
       "      <td>98074</td>\n",
       "      <td>1800</td>\n",
       "      <td>7503</td>\n",
       "    </tr>\n",
       "    <tr>\n",
       "      <th>5</th>\n",
       "      <td>7237550310</td>\n",
       "      <td>5/12/2014</td>\n",
       "      <td>1230000.0</td>\n",
       "      <td>4</td>\n",
       "      <td>4.50</td>\n",
       "      <td>5420</td>\n",
       "      <td>101930</td>\n",
       "      <td>1.0</td>\n",
       "      <td>0.0</td>\n",
       "      <td>0.0</td>\n",
       "      <td>3</td>\n",
       "      <td>11</td>\n",
       "      <td>3890</td>\n",
       "      <td>1530.0</td>\n",
       "      <td>2001</td>\n",
       "      <td>98053</td>\n",
       "      <td>4760</td>\n",
       "      <td>101930</td>\n",
       "    </tr>\n",
       "  </tbody>\n",
       "</table>\n",
       "</div>"
      ],
      "text/plain": [
       "           id       date      price  bedrooms  bathrooms  sqft_living  \\\n",
       "1  6414100192  12/9/2014   538000.0         3       2.25         2570   \n",
       "2  5631500400  2/25/2015   180000.0         2       1.00          770   \n",
       "3  2487200875  12/9/2014   604000.0         4       3.00         1960   \n",
       "4  1954400510  2/18/2015   510000.0         3       2.00         1680   \n",
       "5  7237550310  5/12/2014  1230000.0         4       4.50         5420   \n",
       "\n",
       "   sqft_lot  floors  waterfront  view  condition  grade  sqft_above  \\\n",
       "1      7242     2.0         0.0   0.0          3      7        2170   \n",
       "2     10000     1.0         0.0   0.0          3      6         770   \n",
       "3      5000     1.0         0.0   0.0          5      7        1050   \n",
       "4      8080     1.0         0.0   0.0          3      8        1680   \n",
       "5    101930     1.0         0.0   0.0          3     11        3890   \n",
       "\n",
       "   sqft_basement  yr_built zipcode  sqft_living15  sqft_lot15  \n",
       "1          400.0      1951   98125           1690        7639  \n",
       "2            0.0      1933   98028           2720        8062  \n",
       "3          910.0      1965   98136           1360        5000  \n",
       "4            0.0      1987   98074           1800        7503  \n",
       "5         1530.0      2001   98053           4760      101930  "
      ]
     },
     "execution_count": 162,
     "metadata": {},
     "output_type": "execute_result"
    }
   ],
   "source": [
    "df.head()"
   ]
  },
  {
   "cell_type": "code",
   "execution_count": 163,
   "metadata": {},
   "outputs": [],
   "source": [
    "log_price = np.log(df['price'])"
   ]
  },
  {
   "cell_type": "code",
   "execution_count": 164,
   "metadata": {},
   "outputs": [
    {
     "data": {
      "text/plain": [
       "1     538000.0\n",
       "2     180000.0\n",
       "3     604000.0\n",
       "4     510000.0\n",
       "5    1230000.0\n",
       "Name: price, dtype: float64"
      ]
     },
     "execution_count": 164,
     "metadata": {},
     "output_type": "execute_result"
    }
   ],
   "source": [
    "df['price'].head()"
   ]
  },
  {
   "cell_type": "code",
   "execution_count": 165,
   "metadata": {},
   "outputs": [
    {
     "data": {
      "text/plain": [
       "1    13.195614\n",
       "2    12.100712\n",
       "3    13.311329\n",
       "4    13.142166\n",
       "5    14.022525\n",
       "Name: price, dtype: float64"
      ]
     },
     "execution_count": 165,
     "metadata": {},
     "output_type": "execute_result"
    }
   ],
   "source": [
    "log_price.head()"
   ]
  },
  {
   "cell_type": "markdown",
   "metadata": {},
   "source": [
    "## Model 8(Log Price)"
   ]
  },
  {
   "cell_type": "code",
   "execution_count": 187,
   "metadata": {},
   "outputs": [
    {
     "name": "stdout",
     "output_type": "stream",
     "text": [
      "12.219402417630807\n",
      "[0.00039955]\n"
     ]
    },
    {
     "data": {
      "text/plain": [
       "<zip at 0x1c19c56ac8>"
      ]
     },
     "execution_count": 187,
     "metadata": {},
     "output_type": "execute_result"
    }
   ],
   "source": [
    "feature_cols = ['sqft_living']\n",
    "X = df[feature_cols]\n",
    "y = log_price\n",
    "\n",
    "from sklearn.model_selection import train_test_split\n",
    "\n",
    "X_train, X_test, y_train, y_test = train_test_split(X,y)\n",
    "\n",
    "from sklearn.linear_model import LinearRegression\n",
    "\n",
    "linreg8 = LinearRegression()\n",
    "linreg8.fit(X_train, y_train)\n",
    "\n",
    "print(linreg8.intercept_)\n",
    "\n",
    "print(linreg8.coef_)\n",
    "\n",
    "zip(feature_cols, linreg8.coef_)\n"
   ]
  },
  {
   "cell_type": "code",
   "execution_count": 188,
   "metadata": {},
   "outputs": [],
   "source": [
    "\"\"\"PREDICTION OF Y\"\"\"\n",
    "y_pred = linreg8.predict(X_test)"
   ]
  },
  {
   "cell_type": "code",
   "execution_count": 189,
   "metadata": {},
   "outputs": [
    {
     "name": "stdout",
     "output_type": "stream",
     "text": [
      "0.3071426568622666\n",
      "0.1413361937490428\n",
      "0.37594706242906434\n"
     ]
    }
   ],
   "source": [
    "\"\"\"OUTPUTTING RMSE \"\"\"\n",
    "\n",
    "\n",
    "#result of Mean Absolute Error\n",
    "print(metrics.mean_absolute_error(y_test, y_pred))\n",
    "\n",
    "#result of Mean Squared Error\n",
    "print(metrics.mean_squared_error(y_test, y_pred))\n",
    "\n",
    "#result Root Mean Squared Error\n",
    "print(np.sqrt(metrics.mean_squared_error(y_test, y_pred)))"
   ]
  },
  {
   "cell_type": "code",
   "execution_count": 191,
   "metadata": {},
   "outputs": [
    {
     "name": "stdout",
     "output_type": "stream",
     "text": [
      "[0.38821687 0.37987524 0.37961286 0.38351842 0.36023571]\n",
      "[ 0.05061995  0.42634015 -0.30881831 ...  0.24313219 -0.27751998\n",
      " -0.06464186]\n",
      "[13.19561384 12.10071213 13.31132948 ... 12.89921983 12.90445858\n",
      " 12.69158046]\n",
      "0.48507801501769937\n"
     ]
    }
   ],
   "source": [
    "print(np.sqrt(-cross_val_score(linreg8, X, y, cv=5, scoring='neg_mean_squared_error')))\n",
    "\n",
    "print(linreg8.predict(X)-y.values)\n",
    "\n",
    "print(y.values)\n",
    "\n",
    "print(linreg8.score(X,y))"
   ]
  },
  {
   "cell_type": "code",
   "execution_count": null,
   "metadata": {},
   "outputs": [],
   "source": []
  },
  {
   "cell_type": "code",
   "execution_count": null,
   "metadata": {},
   "outputs": [],
   "source": []
  }
 ],
 "metadata": {
  "kernelspec": {
   "display_name": "learn-env",
   "language": "python",
   "name": "learn-env"
  },
  "language_info": {
   "codemirror_mode": {
    "name": "ipython",
    "version": 3
   },
   "file_extension": ".py",
   "mimetype": "text/x-python",
   "name": "python",
   "nbconvert_exporter": "python",
   "pygments_lexer": "ipython3",
   "version": "3.6.6"
  }
 },
 "nbformat": 4,
 "nbformat_minor": 2
}
