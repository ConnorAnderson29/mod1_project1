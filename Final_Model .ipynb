{
 "cells": [
  {
   "cell_type": "markdown",
   "metadata": {},
   "source": [
    "# Final Model "
   ]
  },
  {
   "cell_type": "markdown",
   "metadata": {},
   "source": [
    "Importing data from King County Public Housing Data from `kc_house_data`"
   ]
  },
  {
   "cell_type": "code",
   "execution_count": 282,
   "metadata": {},
   "outputs": [],
   "source": [
    "import pandas as pd\n",
    "import numpy as np\n",
    "import matplotlib.pyplot as plt\n",
    "import seaborn as sns\n",
    "from matplotlib import style\n",
    "style.use('ggplot')"
   ]
  },
  {
   "cell_type": "markdown",
   "metadata": {},
   "source": [
    "### Creating DataFrame from `kc_house_data`"
   ]
  },
  {
   "cell_type": "code",
   "execution_count": 283,
   "metadata": {},
   "outputs": [],
   "source": [
    "kc_data_full = pd.read_csv('kc_house_data.csv')"
   ]
  },
  {
   "cell_type": "markdown",
   "metadata": {},
   "source": [
    "### Data Cleaning: Dropping '?', NaN, and unused columns"
   ]
  },
  {
   "cell_type": "code",
   "execution_count": 284,
   "metadata": {},
   "outputs": [],
   "source": [
    "'''Dropping '?' from basement column'''\n",
    "\n",
    "kc_data_full['sqft_basement'] = kc_data_full['sqft_basement'].replace(\"?\",0)\n",
    "kc_data_full = kc_data_full[~np.isnan(kc_data_full['waterfront'])]\n",
    "kc_data_full = kc_data_full[~np.isnan(kc_data_full['view'])]\n",
    "kc_data_full = kc_data_full.drop(['yr_renovated','lat','long'], axis=1)\n",
    "kc_data_full['sqft_basement'] = kc_data_full['sqft_basement'].astype(float)\n",
    "kc_data_full['zipcode'] = kc_data_full['zipcode'].astype(str)\n",
    "kc_data_full = kc_data_full.drop(['id'], axis=1)"
   ]
  },
  {
   "cell_type": "code",
   "execution_count": 285,
   "metadata": {},
   "outputs": [
    {
     "data": {
      "text/plain": [
       "' Splitting DataFrame into train and unseen data'"
      ]
     },
     "execution_count": 285,
     "metadata": {},
     "output_type": "execute_result"
    }
   ],
   "source": [
    "''' Splitting DataFrame into train and unseen data'''"
   ]
  },
  {
   "cell_type": "code",
   "execution_count": 286,
   "metadata": {},
   "outputs": [],
   "source": [
    "kc_train = kc_data_full[:9000]"
   ]
  },
  {
   "cell_type": "markdown",
   "metadata": {},
   "source": [
    "### Creating log values for our variables that are not normal distributions"
   ]
  },
  {
   "cell_type": "code",
   "execution_count": 287,
   "metadata": {},
   "outputs": [],
   "source": [
    "kc_train = kc_train.loc[kc_train['yr_built'] > 1975]"
   ]
  },
  {
   "cell_type": "code",
   "execution_count": 288,
   "metadata": {},
   "outputs": [],
   "source": [
    "log_sqft_living = np.log(kc_train['sqft_living'])\n",
    "log_bedrooms = np.log(kc_train['bedrooms'])\n",
    "log_yr_built = np.log(kc_train['yr_built'])"
   ]
  },
  {
   "cell_type": "code",
   "execution_count": 289,
   "metadata": {},
   "outputs": [],
   "source": [
    "kc_train['log_sqft'] = log_sqft_living\n",
    "kc_train['log_bedrooms'] = log_bedrooms\n",
    "kc_train['log_yr_built'] = log_yr_built"
   ]
  },
  {
   "cell_type": "code",
   "execution_count": 290,
   "metadata": {},
   "outputs": [],
   "source": [
    "kc_train['price'] = np.log(kc_train['price'])\n"
   ]
  },
  {
   "cell_type": "code",
   "execution_count": 291,
   "metadata": {},
   "outputs": [
    {
     "data": {
      "text/html": [
       "<div>\n",
       "<style scoped>\n",
       "    .dataframe tbody tr th:only-of-type {\n",
       "        vertical-align: middle;\n",
       "    }\n",
       "\n",
       "    .dataframe tbody tr th {\n",
       "        vertical-align: top;\n",
       "    }\n",
       "\n",
       "    .dataframe thead th {\n",
       "        text-align: right;\n",
       "    }\n",
       "</style>\n",
       "<table border=\"1\" class=\"dataframe\">\n",
       "  <thead>\n",
       "    <tr style=\"text-align: right;\">\n",
       "      <th></th>\n",
       "      <th>date</th>\n",
       "      <th>price</th>\n",
       "      <th>bedrooms</th>\n",
       "      <th>bathrooms</th>\n",
       "      <th>sqft_living</th>\n",
       "      <th>sqft_lot</th>\n",
       "      <th>floors</th>\n",
       "      <th>waterfront</th>\n",
       "      <th>view</th>\n",
       "      <th>condition</th>\n",
       "      <th>grade</th>\n",
       "      <th>sqft_above</th>\n",
       "      <th>sqft_basement</th>\n",
       "      <th>yr_built</th>\n",
       "      <th>zipcode</th>\n",
       "      <th>sqft_living15</th>\n",
       "      <th>sqft_lot15</th>\n",
       "      <th>log_sqft</th>\n",
       "      <th>log_bedrooms</th>\n",
       "      <th>log_yr_built</th>\n",
       "    </tr>\n",
       "  </thead>\n",
       "  <tbody>\n",
       "    <tr>\n",
       "      <th>4</th>\n",
       "      <td>2/18/2015</td>\n",
       "      <td>13.142166</td>\n",
       "      <td>3</td>\n",
       "      <td>2.00</td>\n",
       "      <td>1680</td>\n",
       "      <td>8080</td>\n",
       "      <td>1.0</td>\n",
       "      <td>0.0</td>\n",
       "      <td>0.0</td>\n",
       "      <td>3</td>\n",
       "      <td>8</td>\n",
       "      <td>1680</td>\n",
       "      <td>0.0</td>\n",
       "      <td>1987</td>\n",
       "      <td>98074</td>\n",
       "      <td>1800</td>\n",
       "      <td>7503</td>\n",
       "      <td>7.426549</td>\n",
       "      <td>1.098612</td>\n",
       "      <td>7.594381</td>\n",
       "    </tr>\n",
       "    <tr>\n",
       "      <th>5</th>\n",
       "      <td>5/12/2014</td>\n",
       "      <td>14.022525</td>\n",
       "      <td>4</td>\n",
       "      <td>4.50</td>\n",
       "      <td>5420</td>\n",
       "      <td>101930</td>\n",
       "      <td>1.0</td>\n",
       "      <td>0.0</td>\n",
       "      <td>0.0</td>\n",
       "      <td>3</td>\n",
       "      <td>11</td>\n",
       "      <td>3890</td>\n",
       "      <td>1530.0</td>\n",
       "      <td>2001</td>\n",
       "      <td>98053</td>\n",
       "      <td>4760</td>\n",
       "      <td>101930</td>\n",
       "      <td>8.597851</td>\n",
       "      <td>1.386294</td>\n",
       "      <td>7.601402</td>\n",
       "    </tr>\n",
       "    <tr>\n",
       "      <th>6</th>\n",
       "      <td>6/27/2014</td>\n",
       "      <td>12.458775</td>\n",
       "      <td>3</td>\n",
       "      <td>2.25</td>\n",
       "      <td>1715</td>\n",
       "      <td>6819</td>\n",
       "      <td>2.0</td>\n",
       "      <td>0.0</td>\n",
       "      <td>0.0</td>\n",
       "      <td>3</td>\n",
       "      <td>7</td>\n",
       "      <td>1715</td>\n",
       "      <td>0.0</td>\n",
       "      <td>1995</td>\n",
       "      <td>98003</td>\n",
       "      <td>2238</td>\n",
       "      <td>6819</td>\n",
       "      <td>7.447168</td>\n",
       "      <td>1.098612</td>\n",
       "      <td>7.598399</td>\n",
       "    </tr>\n",
       "    <tr>\n",
       "      <th>9</th>\n",
       "      <td>3/12/2015</td>\n",
       "      <td>12.685408</td>\n",
       "      <td>3</td>\n",
       "      <td>2.50</td>\n",
       "      <td>1890</td>\n",
       "      <td>6560</td>\n",
       "      <td>2.0</td>\n",
       "      <td>0.0</td>\n",
       "      <td>0.0</td>\n",
       "      <td>3</td>\n",
       "      <td>7</td>\n",
       "      <td>1890</td>\n",
       "      <td>0.0</td>\n",
       "      <td>2003</td>\n",
       "      <td>98038</td>\n",
       "      <td>2390</td>\n",
       "      <td>7570</td>\n",
       "      <td>7.544332</td>\n",
       "      <td>1.098612</td>\n",
       "      <td>7.602401</td>\n",
       "    </tr>\n",
       "    <tr>\n",
       "      <th>13</th>\n",
       "      <td>10/7/2014</td>\n",
       "      <td>12.899220</td>\n",
       "      <td>3</td>\n",
       "      <td>1.75</td>\n",
       "      <td>1370</td>\n",
       "      <td>9680</td>\n",
       "      <td>1.0</td>\n",
       "      <td>0.0</td>\n",
       "      <td>0.0</td>\n",
       "      <td>4</td>\n",
       "      <td>7</td>\n",
       "      <td>1370</td>\n",
       "      <td>0.0</td>\n",
       "      <td>1977</td>\n",
       "      <td>98074</td>\n",
       "      <td>1370</td>\n",
       "      <td>10208</td>\n",
       "      <td>7.222566</td>\n",
       "      <td>1.098612</td>\n",
       "      <td>7.589336</td>\n",
       "    </tr>\n",
       "  </tbody>\n",
       "</table>\n",
       "</div>"
      ],
      "text/plain": [
       "         date      price  bedrooms  bathrooms  sqft_living  sqft_lot  floors  \\\n",
       "4   2/18/2015  13.142166         3       2.00         1680      8080     1.0   \n",
       "5   5/12/2014  14.022525         4       4.50         5420    101930     1.0   \n",
       "6   6/27/2014  12.458775         3       2.25         1715      6819     2.0   \n",
       "9   3/12/2015  12.685408         3       2.50         1890      6560     2.0   \n",
       "13  10/7/2014  12.899220         3       1.75         1370      9680     1.0   \n",
       "\n",
       "    waterfront  view  condition  grade  sqft_above  sqft_basement  yr_built  \\\n",
       "4          0.0   0.0          3      8        1680            0.0      1987   \n",
       "5          0.0   0.0          3     11        3890         1530.0      2001   \n",
       "6          0.0   0.0          3      7        1715            0.0      1995   \n",
       "9          0.0   0.0          3      7        1890            0.0      2003   \n",
       "13         0.0   0.0          4      7        1370            0.0      1977   \n",
       "\n",
       "   zipcode  sqft_living15  sqft_lot15  log_sqft  log_bedrooms  log_yr_built  \n",
       "4    98074           1800        7503  7.426549      1.098612      7.594381  \n",
       "5    98053           4760      101930  8.597851      1.386294      7.601402  \n",
       "6    98003           2238        6819  7.447168      1.098612      7.598399  \n",
       "9    98038           2390        7570  7.544332      1.098612      7.602401  \n",
       "13   98074           1370       10208  7.222566      1.098612      7.589336  "
      ]
     },
     "execution_count": 291,
     "metadata": {},
     "output_type": "execute_result"
    }
   ],
   "source": [
    "kc_train.head()"
   ]
  },
  {
   "cell_type": "markdown",
   "metadata": {},
   "source": [
    "# Linear Regression Section"
   ]
  },
  {
   "cell_type": "code",
   "execution_count": 292,
   "metadata": {},
   "outputs": [],
   "source": [
    "import sklearn\n",
    "from sklearn import metrics\n",
    "from sklearn.model_selection import cross_val_score\n",
    "from sklearn.model_selection import train_test_split\n",
    "from sklearn.linear_model import LinearRegression"
   ]
  },
  {
   "cell_type": "code",
   "execution_count": 293,
   "metadata": {},
   "outputs": [
    {
     "data": {
      "text/plain": [
       "'Create Logs of Certain Variables'"
      ]
     },
     "execution_count": 293,
     "metadata": {},
     "output_type": "execute_result"
    }
   ],
   "source": [
    "\"\"\"Create Logs of Certain Variables\"\"\""
   ]
  },
  {
   "cell_type": "code",
   "execution_count": 294,
   "metadata": {},
   "outputs": [],
   "source": [
    "#log_price = kc_train['price']\n"
   ]
  },
  {
   "cell_type": "code",
   "execution_count": 295,
   "metadata": {},
   "outputs": [],
   "source": [
    "# def models(df, feature_cols):\n",
    "#     '''This is a function that outputs the Intercept, Coefficients, 3 types of Errors, and R-Squared'''\n",
    "#     X = df[feature_cols]\n",
    "#     y = df['price']\n",
    "#     X_train, X_test, y_train, y_test = train_test_split(X,y)\n",
    "#     linreg = LinearRegression()\n",
    "#     linreg.fit(X_train, y_train)\n",
    "#     print(f'Intercept of the regression line:',linreg.intercept_)\n",
    "#     print(f'Coefficients:',linreg.coef_)\n",
    "#     print('\\n')\n",
    "    \n",
    "#     y_pred = linreg.predict(X_test)\n",
    "    \n",
    "#     print(f'Mean Absolute Error:',np.exp((metrics.mean_absolute_error(y_test, y_pred))))\n",
    "#     print(f'Mean Squared Error:',np.exp((metrics.mean_squared_error(y_test, y_pred))))\n",
    "#     print(f'Root Mean Squared Error:',np.exp((np.sqrt(metrics.mean_squared_error(y_test, y_pred)))))\n",
    "#     print(f'R-Squared:',round(linreg.score(X,y),3))\n"
   ]
  },
  {
   "cell_type": "code",
   "execution_count": 296,
   "metadata": {},
   "outputs": [
    {
     "name": "stdout",
     "output_type": "stream",
     "text": [
      "Intercept of the regression line: 7.5627283309652\n",
      "Coefficients: [0.47702602 0.22859576]\n",
      "\n",
      "\n",
      "Mean Absolute Error: 1.2682287957505893\n",
      "Mean Squared Error: 1.09362240893434\n",
      "Root Mean Squared Error: 1.3487226782998942\n",
      "R-Squared: 0.66\n"
     ]
    }
   ],
   "source": [
    "models(df=kc_train, feature_cols=['log_sqft', 'grade'])"
   ]
  },
  {
   "cell_type": "code",
   "execution_count": 297,
   "metadata": {},
   "outputs": [
    {
     "data": {
      "text/html": [
       "<div>\n",
       "<style scoped>\n",
       "    .dataframe tbody tr th:only-of-type {\n",
       "        vertical-align: middle;\n",
       "    }\n",
       "\n",
       "    .dataframe tbody tr th {\n",
       "        vertical-align: top;\n",
       "    }\n",
       "\n",
       "    .dataframe thead th {\n",
       "        text-align: right;\n",
       "    }\n",
       "</style>\n",
       "<table border=\"1\" class=\"dataframe\">\n",
       "  <thead>\n",
       "    <tr style=\"text-align: right;\">\n",
       "      <th></th>\n",
       "      <th>date</th>\n",
       "      <th>price</th>\n",
       "      <th>bedrooms</th>\n",
       "      <th>bathrooms</th>\n",
       "      <th>sqft_living</th>\n",
       "      <th>sqft_lot</th>\n",
       "      <th>floors</th>\n",
       "      <th>waterfront</th>\n",
       "      <th>view</th>\n",
       "      <th>condition</th>\n",
       "      <th>grade</th>\n",
       "      <th>sqft_above</th>\n",
       "      <th>sqft_basement</th>\n",
       "      <th>yr_built</th>\n",
       "      <th>zipcode</th>\n",
       "      <th>sqft_living15</th>\n",
       "      <th>sqft_lot15</th>\n",
       "      <th>log_sqft</th>\n",
       "      <th>log_bedrooms</th>\n",
       "      <th>log_yr_built</th>\n",
       "    </tr>\n",
       "  </thead>\n",
       "  <tbody>\n",
       "    <tr>\n",
       "      <th>4</th>\n",
       "      <td>2/18/2015</td>\n",
       "      <td>13.142166</td>\n",
       "      <td>3</td>\n",
       "      <td>2.00</td>\n",
       "      <td>1680</td>\n",
       "      <td>8080</td>\n",
       "      <td>1.0</td>\n",
       "      <td>0.0</td>\n",
       "      <td>0.0</td>\n",
       "      <td>3</td>\n",
       "      <td>8</td>\n",
       "      <td>1680</td>\n",
       "      <td>0.0</td>\n",
       "      <td>1987</td>\n",
       "      <td>98074</td>\n",
       "      <td>1800</td>\n",
       "      <td>7503</td>\n",
       "      <td>7.426549</td>\n",
       "      <td>1.098612</td>\n",
       "      <td>7.594381</td>\n",
       "    </tr>\n",
       "    <tr>\n",
       "      <th>5</th>\n",
       "      <td>5/12/2014</td>\n",
       "      <td>14.022525</td>\n",
       "      <td>4</td>\n",
       "      <td>4.50</td>\n",
       "      <td>5420</td>\n",
       "      <td>101930</td>\n",
       "      <td>1.0</td>\n",
       "      <td>0.0</td>\n",
       "      <td>0.0</td>\n",
       "      <td>3</td>\n",
       "      <td>11</td>\n",
       "      <td>3890</td>\n",
       "      <td>1530.0</td>\n",
       "      <td>2001</td>\n",
       "      <td>98053</td>\n",
       "      <td>4760</td>\n",
       "      <td>101930</td>\n",
       "      <td>8.597851</td>\n",
       "      <td>1.386294</td>\n",
       "      <td>7.601402</td>\n",
       "    </tr>\n",
       "    <tr>\n",
       "      <th>6</th>\n",
       "      <td>6/27/2014</td>\n",
       "      <td>12.458775</td>\n",
       "      <td>3</td>\n",
       "      <td>2.25</td>\n",
       "      <td>1715</td>\n",
       "      <td>6819</td>\n",
       "      <td>2.0</td>\n",
       "      <td>0.0</td>\n",
       "      <td>0.0</td>\n",
       "      <td>3</td>\n",
       "      <td>7</td>\n",
       "      <td>1715</td>\n",
       "      <td>0.0</td>\n",
       "      <td>1995</td>\n",
       "      <td>98003</td>\n",
       "      <td>2238</td>\n",
       "      <td>6819</td>\n",
       "      <td>7.447168</td>\n",
       "      <td>1.098612</td>\n",
       "      <td>7.598399</td>\n",
       "    </tr>\n",
       "    <tr>\n",
       "      <th>9</th>\n",
       "      <td>3/12/2015</td>\n",
       "      <td>12.685408</td>\n",
       "      <td>3</td>\n",
       "      <td>2.50</td>\n",
       "      <td>1890</td>\n",
       "      <td>6560</td>\n",
       "      <td>2.0</td>\n",
       "      <td>0.0</td>\n",
       "      <td>0.0</td>\n",
       "      <td>3</td>\n",
       "      <td>7</td>\n",
       "      <td>1890</td>\n",
       "      <td>0.0</td>\n",
       "      <td>2003</td>\n",
       "      <td>98038</td>\n",
       "      <td>2390</td>\n",
       "      <td>7570</td>\n",
       "      <td>7.544332</td>\n",
       "      <td>1.098612</td>\n",
       "      <td>7.602401</td>\n",
       "    </tr>\n",
       "    <tr>\n",
       "      <th>13</th>\n",
       "      <td>10/7/2014</td>\n",
       "      <td>12.899220</td>\n",
       "      <td>3</td>\n",
       "      <td>1.75</td>\n",
       "      <td>1370</td>\n",
       "      <td>9680</td>\n",
       "      <td>1.0</td>\n",
       "      <td>0.0</td>\n",
       "      <td>0.0</td>\n",
       "      <td>4</td>\n",
       "      <td>7</td>\n",
       "      <td>1370</td>\n",
       "      <td>0.0</td>\n",
       "      <td>1977</td>\n",
       "      <td>98074</td>\n",
       "      <td>1370</td>\n",
       "      <td>10208</td>\n",
       "      <td>7.222566</td>\n",
       "      <td>1.098612</td>\n",
       "      <td>7.589336</td>\n",
       "    </tr>\n",
       "  </tbody>\n",
       "</table>\n",
       "</div>"
      ],
      "text/plain": [
       "         date      price  bedrooms  bathrooms  sqft_living  sqft_lot  floors  \\\n",
       "4   2/18/2015  13.142166         3       2.00         1680      8080     1.0   \n",
       "5   5/12/2014  14.022525         4       4.50         5420    101930     1.0   \n",
       "6   6/27/2014  12.458775         3       2.25         1715      6819     2.0   \n",
       "9   3/12/2015  12.685408         3       2.50         1890      6560     2.0   \n",
       "13  10/7/2014  12.899220         3       1.75         1370      9680     1.0   \n",
       "\n",
       "    waterfront  view  condition  grade  sqft_above  sqft_basement  yr_built  \\\n",
       "4          0.0   0.0          3      8        1680            0.0      1987   \n",
       "5          0.0   0.0          3     11        3890         1530.0      2001   \n",
       "6          0.0   0.0          3      7        1715            0.0      1995   \n",
       "9          0.0   0.0          3      7        1890            0.0      2003   \n",
       "13         0.0   0.0          4      7        1370            0.0      1977   \n",
       "\n",
       "   zipcode  sqft_living15  sqft_lot15  log_sqft  log_bedrooms  log_yr_built  \n",
       "4    98074           1800        7503  7.426549      1.098612      7.594381  \n",
       "5    98053           4760      101930  8.597851      1.386294      7.601402  \n",
       "6    98003           2238        6819  7.447168      1.098612      7.598399  \n",
       "9    98038           2390        7570  7.544332      1.098612      7.602401  \n",
       "13   98074           1370       10208  7.222566      1.098612      7.589336  "
      ]
     },
     "execution_count": 297,
     "metadata": {},
     "output_type": "execute_result"
    }
   ],
   "source": [
    "kc_train.head()"
   ]
  },
  {
   "cell_type": "markdown",
   "metadata": {},
   "source": [
    "## Cross Validation"
   ]
  },
  {
   "cell_type": "code",
   "execution_count": 298,
   "metadata": {},
   "outputs": [
    {
     "name": "stdout",
     "output_type": "stream",
     "text": [
      "1809.143480153276\n"
     ]
    }
   ],
   "source": [
    "feature_col = ['log_sqft', 'grade']\n",
    "X = kc_train[feature_col]\n",
    "y = kc_train['price']\n",
    "\n",
    "X_train, X_test, y_train, y_test = train_test_split(X,y, test_size =0.5)\n",
    "\n",
    "linreg1 = LinearRegression()\n",
    "results = linreg1.fit(X_train, y_train)\n",
    "\n",
    "print(np.exp(linreg1.intercept_))"
   ]
  },
  {
   "cell_type": "code",
   "execution_count": 299,
   "metadata": {},
   "outputs": [
    {
     "name": "stdout",
     "output_type": "stream",
     "text": [
      "(2009, 2) (2009,)\n"
     ]
    }
   ],
   "source": [
    "print (X_train.shape, y_train.shape)\n"
   ]
  },
  {
   "cell_type": "code",
   "execution_count": 300,
   "metadata": {},
   "outputs": [
    {
     "data": {
      "text/plain": [
       "array([693017.13304784, 367539.68868578, 287493.35727414, 458336.51217303,\n",
       "       360127.42604381])"
      ]
     },
     "execution_count": 300,
     "metadata": {},
     "output_type": "execute_result"
    }
   ],
   "source": [
    "predictions = np.exp(linreg1.predict(X_test))\n",
    "predictions[0:5]\n"
   ]
  },
  {
   "cell_type": "code",
   "execution_count": 308,
   "metadata": {},
   "outputs": [
    {
     "name": "stdout",
     "output_type": "stream",
     "text": [
      "326      274975.0\n",
      "7298     445000.0\n",
      "6231     300000.0\n",
      "2392     299500.0\n",
      "1204     479000.0\n",
      "4928     360000.0\n",
      "6745     320000.0\n",
      "1016     475000.0\n",
      "3504     695000.0\n",
      "6469     760000.0\n",
      "2849     534000.0\n",
      "7165    1260000.0\n",
      "818      682000.0\n",
      "6465    1150000.0\n",
      "5044    1390000.0\n",
      "4437     790000.0\n",
      "9664     535000.0\n",
      "3653     715000.0\n",
      "4938     895000.0\n",
      "4442     344000.0\n",
      "4687     423000.0\n",
      "1950     232500.0\n",
      "9213     289000.0\n",
      "3884     680000.0\n",
      "7177     358000.0\n",
      "8670     895000.0\n",
      "270     1370000.0\n",
      "5148     395000.0\n",
      "9282     270000.0\n",
      "5200    1050000.0\n",
      "          ...    \n",
      "8075     710000.0\n",
      "1887     345000.0\n",
      "762      330000.0\n",
      "469      342500.0\n",
      "59       430000.0\n",
      "929      300000.0\n",
      "3437     355000.0\n",
      "8892     345000.0\n",
      "1758     599950.0\n",
      "4911     465000.0\n",
      "4482    2000000.0\n",
      "1394    1060000.0\n",
      "7008     413900.0\n",
      "7545     520000.0\n",
      "2289     522250.0\n",
      "4601     700000.0\n",
      "9071     363000.0\n",
      "5668     299500.0\n",
      "2468     700000.0\n",
      "9432     680000.0\n",
      "1103     817500.0\n",
      "9618     765000.0\n",
      "7258     540000.0\n",
      "361      380000.0\n",
      "5617     477000.0\n",
      "1246     449000.0\n",
      "2832     675500.0\n",
      "967      440000.0\n",
      "7718     458000.0\n",
      "9014     806000.0\n",
      "Name: price, Length: 2010, dtype: float64\n",
      "[693017.13304784 367539.68868578 287493.35727414 ... 314744.10928735\n",
      " 365914.06198612 801034.24192896]\n"
     ]
    }
   ],
   "source": [
    "standardY= np.exp((y_test))\n",
    "print(standardY)\n",
    "standard = (predictions)\n",
    "print(standard)"
   ]
  },
  {
   "cell_type": "code",
   "execution_count": 309,
   "metadata": {},
   "outputs": [
    {
     "name": "stdout",
     "output_type": "stream",
     "text": [
      "224961.66584596864\n"
     ]
    }
   ],
   "source": [
    "print(np.sqrt(sum((standardY - standard) ** 2) / len(standardY)))"
   ]
  },
  {
   "cell_type": "code",
   "execution_count": 310,
   "metadata": {},
   "outputs": [
    {
     "name": "stdout",
     "output_type": "stream",
     "text": [
      "Score 0.6545995408094742\n"
     ]
    }
   ],
   "source": [
    "print('Score', linreg1.score(X_test, y_test))"
   ]
  },
  {
   "cell_type": "code",
   "execution_count": 311,
   "metadata": {},
   "outputs": [
    {
     "name": "stdout",
     "output_type": "stream",
     "text": [
      "Cross Validated Scores [0.65023275 0.68626122 0.63325295 0.69337311 0.61934235]\n"
     ]
    }
   ],
   "source": [
    "scores = cross_val_score(linreg1, X, y, cv=5)\n",
    "print('Cross Validated Scores', scores)"
   ]
  },
  {
   "cell_type": "code",
   "execution_count": 312,
   "metadata": {},
   "outputs": [
    {
     "data": {
      "text/plain": [
       "Text(0, 0.5, 'Predictions')"
      ]
     },
     "execution_count": 312,
     "metadata": {},
     "output_type": "execute_result"
    },
    {
     "data": {
      "image/png": "[encoded data removed]",
      "text/plain": [
       "<Figure size 432x288 with 1 Axes>"
      ]
     },
     "metadata": {},
     "output_type": "display_data"
    }
   ],
   "source": [
    "plt.scatter(standardY, standard)\n",
    "plt.xlabel('True Values')\n",
    "plt.ylabel('Predictions')"
   ]
  },
  {
   "cell_type": "code",
   "execution_count": null,
   "metadata": {},
   "outputs": [],
   "source": []
  },
  {
   "cell_type": "code",
   "execution_count": null,
   "metadata": {},
   "outputs": [],
   "source": []
  }
 ],
 "metadata": {
  "kernelspec": {
   "display_name": "learn-env",
   "language": "python",
   "name": "learn-env"
  },
  "language_info": {
   "codemirror_mode": {
    "name": "ipython",
    "version": 3
   },
   "file_extension": ".py",
   "mimetype": "text/x-python",
   "name": "python",
   "nbconvert_exporter": "python",
   "pygments_lexer": "ipython3",
   "version": "3.6.6"
  }
 },
 "nbformat": 4,
 "nbformat_minor": 2
}
